{
 "cells": [
  {
   "cell_type": "markdown",
   "metadata": {},
   "source": [
    "# Data"
   ]
  },
  {
   "cell_type": "markdown",
   "metadata": {},
   "source": [
    "Import libraries:"
   ]
  },
  {
   "cell_type": "code",
   "execution_count": 1,
   "metadata": {},
   "outputs": [],
   "source": [
    "import pandas as pd\n",
    "from sklearn import preprocessing\n",
    "from sklearn.model_selection import train_test_split\n",
    "import sklearn.metrics as metrics\n",
    "import catboost as cb\n",
    "import gc"
   ]
  },
  {
   "cell_type": "markdown",
   "metadata": {},
   "source": [
    "Import data & combine transaction and idendity columns:"
   ]
  },
  {
   "cell_type": "code",
   "execution_count": 2,
   "metadata": {},
   "outputs": [
    {
     "data": {
      "text/plain": [
       "0"
      ]
     },
     "execution_count": 2,
     "metadata": {},
     "output_type": "execute_result"
    }
   ],
   "source": [
    "train_transaction = pd.read_csv('/home/fatihakyon/dev/inzva/ieee-fraud-detection/data/train_transaction.csv')\n",
    "train_identity = pd.read_csv('/home/fatihakyon/dev/inzva/ieee-fraud-detection/data/train_identity.csv')\n",
    "\n",
    "train = pd.merge(train_transaction, train_identity, on=\"TransactionID\", how=\"left\")\n",
    "train = train.set_index(\"TransactionID\", drop=\"True\")\n",
    "del train_transaction, train_identity\n",
    "gc.collect()\n",
    "\n",
    "test_transaction = pd.read_csv('/home/fatihakyon/dev/inzva/ieee-fraud-detection/data/test_transaction.csv')\n",
    "test_identity = pd.read_csv('/home/fatihakyon/dev/inzva/ieee-fraud-detection/data/test_identity.csv')\n",
    "\n",
    "test = pd.merge(test_transaction, test_identity, on=\"TransactionID\", how=\"left\")\n",
    "test = test.set_index(\"TransactionID\", drop=\"True\")\n",
    "del test_transaction, test_identity\n",
    "gc.collect()"
   ]
  },
  {
   "cell_type": "code",
   "execution_count": 3,
   "metadata": {},
   "outputs": [
    {
     "data": {
      "text/plain": [
       "(590540, 433)"
      ]
     },
     "execution_count": 3,
     "metadata": {},
     "output_type": "execute_result"
    }
   ],
   "source": [
    "train.shape"
   ]
  },
  {
   "cell_type": "code",
   "execution_count": 4,
   "metadata": {},
   "outputs": [
    {
     "data": {
      "text/plain": [
       "(506691, 432)"
      ]
     },
     "execution_count": 4,
     "metadata": {},
     "output_type": "execute_result"
    }
   ],
   "source": [
    "test.shape"
   ]
  },
  {
   "cell_type": "code",
   "execution_count": 5,
   "metadata": {},
   "outputs": [
    {
     "data": {
      "text/html": [
       "<div>\n",
       "<style scoped>\n",
       "    .dataframe tbody tr th:only-of-type {\n",
       "        vertical-align: middle;\n",
       "    }\n",
       "\n",
       "    .dataframe tbody tr th {\n",
       "        vertical-align: top;\n",
       "    }\n",
       "\n",
       "    .dataframe thead th {\n",
       "        text-align: right;\n",
       "    }\n",
       "</style>\n",
       "<table border=\"1\" class=\"dataframe\">\n",
       "  <thead>\n",
       "    <tr style=\"text-align: right;\">\n",
       "      <th></th>\n",
       "      <th>isFraud</th>\n",
       "      <th>TransactionDT</th>\n",
       "      <th>TransactionAmt</th>\n",
       "      <th>ProductCD</th>\n",
       "      <th>card1</th>\n",
       "      <th>card2</th>\n",
       "      <th>card3</th>\n",
       "      <th>card4</th>\n",
       "      <th>card5</th>\n",
       "      <th>card6</th>\n",
       "      <th>...</th>\n",
       "      <th>id_31</th>\n",
       "      <th>id_32</th>\n",
       "      <th>id_33</th>\n",
       "      <th>id_34</th>\n",
       "      <th>id_35</th>\n",
       "      <th>id_36</th>\n",
       "      <th>id_37</th>\n",
       "      <th>id_38</th>\n",
       "      <th>DeviceType</th>\n",
       "      <th>DeviceInfo</th>\n",
       "    </tr>\n",
       "    <tr>\n",
       "      <th>TransactionID</th>\n",
       "      <th></th>\n",
       "      <th></th>\n",
       "      <th></th>\n",
       "      <th></th>\n",
       "      <th></th>\n",
       "      <th></th>\n",
       "      <th></th>\n",
       "      <th></th>\n",
       "      <th></th>\n",
       "      <th></th>\n",
       "      <th></th>\n",
       "      <th></th>\n",
       "      <th></th>\n",
       "      <th></th>\n",
       "      <th></th>\n",
       "      <th></th>\n",
       "      <th></th>\n",
       "      <th></th>\n",
       "      <th></th>\n",
       "      <th></th>\n",
       "      <th></th>\n",
       "    </tr>\n",
       "  </thead>\n",
       "  <tbody>\n",
       "    <tr>\n",
       "      <th>2987000</th>\n",
       "      <td>0</td>\n",
       "      <td>86400</td>\n",
       "      <td>68.5</td>\n",
       "      <td>W</td>\n",
       "      <td>13926</td>\n",
       "      <td>NaN</td>\n",
       "      <td>150.0</td>\n",
       "      <td>discover</td>\n",
       "      <td>142.0</td>\n",
       "      <td>credit</td>\n",
       "      <td>...</td>\n",
       "      <td>NaN</td>\n",
       "      <td>NaN</td>\n",
       "      <td>NaN</td>\n",
       "      <td>NaN</td>\n",
       "      <td>NaN</td>\n",
       "      <td>NaN</td>\n",
       "      <td>NaN</td>\n",
       "      <td>NaN</td>\n",
       "      <td>NaN</td>\n",
       "      <td>NaN</td>\n",
       "    </tr>\n",
       "    <tr>\n",
       "      <th>2987001</th>\n",
       "      <td>0</td>\n",
       "      <td>86401</td>\n",
       "      <td>29.0</td>\n",
       "      <td>W</td>\n",
       "      <td>2755</td>\n",
       "      <td>404.0</td>\n",
       "      <td>150.0</td>\n",
       "      <td>mastercard</td>\n",
       "      <td>102.0</td>\n",
       "      <td>credit</td>\n",
       "      <td>...</td>\n",
       "      <td>NaN</td>\n",
       "      <td>NaN</td>\n",
       "      <td>NaN</td>\n",
       "      <td>NaN</td>\n",
       "      <td>NaN</td>\n",
       "      <td>NaN</td>\n",
       "      <td>NaN</td>\n",
       "      <td>NaN</td>\n",
       "      <td>NaN</td>\n",
       "      <td>NaN</td>\n",
       "    </tr>\n",
       "    <tr>\n",
       "      <th>2987002</th>\n",
       "      <td>0</td>\n",
       "      <td>86469</td>\n",
       "      <td>59.0</td>\n",
       "      <td>W</td>\n",
       "      <td>4663</td>\n",
       "      <td>490.0</td>\n",
       "      <td>150.0</td>\n",
       "      <td>visa</td>\n",
       "      <td>166.0</td>\n",
       "      <td>debit</td>\n",
       "      <td>...</td>\n",
       "      <td>NaN</td>\n",
       "      <td>NaN</td>\n",
       "      <td>NaN</td>\n",
       "      <td>NaN</td>\n",
       "      <td>NaN</td>\n",
       "      <td>NaN</td>\n",
       "      <td>NaN</td>\n",
       "      <td>NaN</td>\n",
       "      <td>NaN</td>\n",
       "      <td>NaN</td>\n",
       "    </tr>\n",
       "    <tr>\n",
       "      <th>2987003</th>\n",
       "      <td>0</td>\n",
       "      <td>86499</td>\n",
       "      <td>50.0</td>\n",
       "      <td>W</td>\n",
       "      <td>18132</td>\n",
       "      <td>567.0</td>\n",
       "      <td>150.0</td>\n",
       "      <td>mastercard</td>\n",
       "      <td>117.0</td>\n",
       "      <td>debit</td>\n",
       "      <td>...</td>\n",
       "      <td>NaN</td>\n",
       "      <td>NaN</td>\n",
       "      <td>NaN</td>\n",
       "      <td>NaN</td>\n",
       "      <td>NaN</td>\n",
       "      <td>NaN</td>\n",
       "      <td>NaN</td>\n",
       "      <td>NaN</td>\n",
       "      <td>NaN</td>\n",
       "      <td>NaN</td>\n",
       "    </tr>\n",
       "    <tr>\n",
       "      <th>2987004</th>\n",
       "      <td>0</td>\n",
       "      <td>86506</td>\n",
       "      <td>50.0</td>\n",
       "      <td>H</td>\n",
       "      <td>4497</td>\n",
       "      <td>514.0</td>\n",
       "      <td>150.0</td>\n",
       "      <td>mastercard</td>\n",
       "      <td>102.0</td>\n",
       "      <td>credit</td>\n",
       "      <td>...</td>\n",
       "      <td>samsung browser 6.2</td>\n",
       "      <td>32.0</td>\n",
       "      <td>2220x1080</td>\n",
       "      <td>match_status:2</td>\n",
       "      <td>T</td>\n",
       "      <td>F</td>\n",
       "      <td>T</td>\n",
       "      <td>T</td>\n",
       "      <td>mobile</td>\n",
       "      <td>SAMSUNG SM-G892A Build/NRD90M</td>\n",
       "    </tr>\n",
       "  </tbody>\n",
       "</table>\n",
       "<p>5 rows × 433 columns</p>\n",
       "</div>"
      ],
      "text/plain": [
       "               isFraud  TransactionDT  TransactionAmt ProductCD  card1  card2  \\\n",
       "TransactionID                                                                   \n",
       "2987000              0          86400            68.5         W  13926    NaN   \n",
       "2987001              0          86401            29.0         W   2755  404.0   \n",
       "2987002              0          86469            59.0         W   4663  490.0   \n",
       "2987003              0          86499            50.0         W  18132  567.0   \n",
       "2987004              0          86506            50.0         H   4497  514.0   \n",
       "\n",
       "               card3       card4  card5   card6  ...                id_31  \\\n",
       "TransactionID                                    ...                        \n",
       "2987000        150.0    discover  142.0  credit  ...                  NaN   \n",
       "2987001        150.0  mastercard  102.0  credit  ...                  NaN   \n",
       "2987002        150.0        visa  166.0   debit  ...                  NaN   \n",
       "2987003        150.0  mastercard  117.0   debit  ...                  NaN   \n",
       "2987004        150.0  mastercard  102.0  credit  ...  samsung browser 6.2   \n",
       "\n",
       "               id_32      id_33           id_34 id_35 id_36  id_37  id_38  \\\n",
       "TransactionID                                                               \n",
       "2987000          NaN        NaN             NaN   NaN   NaN    NaN    NaN   \n",
       "2987001          NaN        NaN             NaN   NaN   NaN    NaN    NaN   \n",
       "2987002          NaN        NaN             NaN   NaN   NaN    NaN    NaN   \n",
       "2987003          NaN        NaN             NaN   NaN   NaN    NaN    NaN   \n",
       "2987004         32.0  2220x1080  match_status:2     T     F      T      T   \n",
       "\n",
       "               DeviceType                     DeviceInfo  \n",
       "TransactionID                                             \n",
       "2987000               NaN                            NaN  \n",
       "2987001               NaN                            NaN  \n",
       "2987002               NaN                            NaN  \n",
       "2987003               NaN                            NaN  \n",
       "2987004            mobile  SAMSUNG SM-G892A Build/NRD90M  \n",
       "\n",
       "[5 rows x 433 columns]"
      ]
     },
     "execution_count": 5,
     "metadata": {},
     "output_type": "execute_result"
    }
   ],
   "source": [
    "train.head()"
   ]
  },
  {
   "cell_type": "markdown",
   "metadata": {},
   "source": [
    "Rename test data columns:"
   ]
  },
  {
   "cell_type": "code",
   "execution_count": 3,
   "metadata": {},
   "outputs": [],
   "source": [
    "mapping = {}\n",
    "for column_name in test.columns:\n",
    "    mapping[column_name] = column_name.replace(\"-\", \"_\")\n",
    "test.rename(columns=mapping, inplace=True)"
   ]
  },
  {
   "cell_type": "code",
   "execution_count": 7,
   "metadata": {},
   "outputs": [
    {
     "data": {
      "text/plain": [
       "Index(['TransactionDT', 'TransactionAmt', 'ProductCD', 'card1', 'card2',\n",
       "       'card3', 'card4', 'card5', 'card6', 'addr1',\n",
       "       ...\n",
       "       'id_31', 'id_32', 'id_33', 'id_34', 'id_35', 'id_36', 'id_37', 'id_38',\n",
       "       'DeviceType', 'DeviceInfo'],\n",
       "      dtype='object', length=432)"
      ]
     },
     "execution_count": 7,
     "metadata": {},
     "output_type": "execute_result"
    }
   ],
   "source": [
    "test.columns"
   ]
  },
  {
   "cell_type": "markdown",
   "metadata": {},
   "source": [
    "Reduce memory usage:"
   ]
  },
  {
   "cell_type": "code",
   "execution_count": 4,
   "metadata": {},
   "outputs": [
    {
     "name": "stdout",
     "output_type": "stream",
     "text": [
      "Memory usage of dataframe is 1955.37 MB\n",
      "Memory usage after optimization is: 648.22 MB\n",
      "Decreased by 66.8%\n",
      "Memory usage of dataframe is 1673.87 MB\n",
      "Memory usage after optimization is: 563.43 MB\n",
      "Decreased by 66.3%\n"
     ]
    }
   ],
   "source": [
    "import numpy as np\n",
    "\n",
    "\n",
    "def reduce_mem_usage(df):\n",
    "    \"\"\"\n",
    "    From kernel https://www.kaggle.com/gemartin/load-data-reduce-memory-usage\n",
    "\n",
    "    Iterate through all the columns of a dataframe and modify the data type\n",
    "    to reduce memory usage.\n",
    "    \"\"\"\n",
    "    start_mem = df.memory_usage().sum() / 1024 ** 2\n",
    "    print(\"Memory usage of dataframe is {:.2f} MB\".format(start_mem))\n",
    "\n",
    "    for col in df.columns:\n",
    "        col_type = df[col].dtype\n",
    "\n",
    "        if col_type != object:\n",
    "            c_min = df[col].min()\n",
    "            c_max = df[col].max()\n",
    "            if str(col_type)[:3] == \"int\":\n",
    "                if c_min > np.iinfo(np.int8).min and c_max < np.iinfo(np.int8).max:\n",
    "                    df[col] = df[col].astype(np.int8)\n",
    "                elif c_min > np.iinfo(np.int16).min and c_max < np.iinfo(np.int16).max:\n",
    "                    df[col] = df[col].astype(np.int16)\n",
    "                elif c_min > np.iinfo(np.int32).min and c_max < np.iinfo(np.int32).max:\n",
    "                    df[col] = df[col].astype(np.int32)\n",
    "                elif c_min > np.iinfo(np.int64).min and c_max < np.iinfo(np.int64).max:\n",
    "                    df[col] = df[col].astype(np.int64)\n",
    "            else:\n",
    "                if (\n",
    "                    c_min > np.finfo(np.float16).min\n",
    "                    and c_max < np.finfo(np.float16).max\n",
    "                ):\n",
    "                    df[col] = df[col].astype(np.float16)\n",
    "                elif (\n",
    "                    c_min > np.finfo(np.float32).min\n",
    "                    and c_max < np.finfo(np.float32).max\n",
    "                ):\n",
    "                    df[col] = df[col].astype(np.float32)\n",
    "                else:\n",
    "                    df[col] = df[col].astype(np.float64)\n",
    "        else:\n",
    "            pass\n",
    "            # df[col] = df[col].astype(\"category\")\n",
    "\n",
    "    end_mem = df.memory_usage().sum() / 1024 ** 2\n",
    "    print(\"Memory usage after optimization is: {:.2f} MB\".format(end_mem))\n",
    "    print(\"Decreased by {:.1f}%\".format(100 * (start_mem - end_mem) / start_mem))\n",
    "\n",
    "    return df\n",
    "\n",
    "train = reduce_mem_usage(train)\n",
    "test = reduce_mem_usage(test)"
   ]
  },
  {
   "cell_type": "markdown",
   "metadata": {},
   "source": [
    "Split train into train/val:"
   ]
  },
  {
   "cell_type": "code",
   "execution_count": 5,
   "metadata": {},
   "outputs": [],
   "source": [
    "VAL_SPLIT = 0.2\n",
    "# Split train into train/val\n",
    "y = train[\"isFraud\"].copy()\n",
    "X = train.drop(\"isFraud\", axis=1)\n",
    "X_train, X_val, y_train, y_val = train_test_split(\n",
    "    X, y, test_size=VAL_SPLIT, random_state=13\n",
    ")\n",
    "\n",
    "X_test = test.copy()\n",
    "del train, test, X, y\n",
    "\n",
    "X_train = X_train.fillna(-999)\n",
    "X_val = X_val.fillna(-999)\n",
    "X_test = X_test.fillna(-999)"
   ]
  },
  {
   "cell_type": "markdown",
   "metadata": {},
   "source": [
    "Categorical features:"
   ]
  },
  {
   "cell_type": "code",
   "execution_count": 6,
   "metadata": {},
   "outputs": [],
   "source": [
    "categorical_features = []\n",
    "\n",
    "for f in X_train.columns:\n",
    "    if X_train[f].dtype=='object' or X_test[f].dtype=='object': \n",
    "        categorical_features.append(f)\n",
    "        lbl = preprocessing.LabelEncoder()\n",
    "        lbl.fit(list(X_train[f].values) + list(X_test[f].values) + list(X_val[f].values))\n",
    "        X_train[f] = lbl.transform(list(X_train[f].values))\n",
    "        X_val[f] = lbl.transform(list(X_val[f].values))\n",
    "        X_test[f] = lbl.transform(list(X_test[f].values)) "
   ]
  },
  {
   "cell_type": "markdown",
   "metadata": {},
   "source": [
    "# CatBoost"
   ]
  },
  {
   "cell_type": "code",
   "execution_count": 8,
   "metadata": {},
   "outputs": [],
   "source": [
    "clf = cb.CatBoostClassifier(n_estimators=200,\n",
    "                        learning_rate=0.05,\n",
    "                        metric_period=500,\n",
    "                        od_wait=500,\n",
    "                        task_type='CPU',\n",
    "                        depth=8)"
   ]
  },
  {
   "cell_type": "code",
   "execution_count": 10,
   "metadata": {},
   "outputs": [
    {
     "name": "stdout",
     "output_type": "stream",
     "text": [
      "0:\tlearn: 0.6113626\ttotal: 145ms\tremaining: 28.8s\n",
      "199:\tlearn: 0.0947855\ttotal: 26.2s\tremaining: 0us\n"
     ]
    },
    {
     "data": {
      "text/plain": [
       "<catboost.core.CatBoostClassifier at 0x7f957ae9e550>"
      ]
     },
     "execution_count": 10,
     "metadata": {},
     "output_type": "execute_result"
    }
   ],
   "source": [
    "clf.fit(X_train, y_train, cat_features=categorical_features)"
   ]
  },
  {
   "cell_type": "markdown",
   "metadata": {},
   "source": [
    "Results:"
   ]
  },
  {
   "cell_type": "code",
   "execution_count": 9,
   "metadata": {},
   "outputs": [],
   "source": [
    "def calculate_scores(estimator, X_val, y_val):\n",
    "    y_val_prediction = estimator.predict(X_val)\n",
    "    y_val_proba = estimator.predict_proba(X_val)[:, 1]\n",
    "\n",
    "    conf_matrix = metrics.confusion_matrix(y_val, y_val_prediction)\n",
    "    accuracy_score = metrics.accuracy_score(y_val, y_val_prediction)\n",
    "    roc_auc_score = metrics.roc_auc_score(y_val, y_val_proba)\n",
    "    f1_score = metrics.f1_score(y_val, y_val_prediction)\n",
    "    classification_report = metrics.classification_report(y_val, y_val_prediction)\n",
    "\n",
    "    print(\"Confusion Matrix: \\n%s\" % str(conf_matrix))\n",
    "    print(\"\\nAccuracy: %.4f\" % accuracy_score)\n",
    "    print(\"\\nAUC: %.4f\" % roc_auc_score)\n",
    "    print(\"\\nF1 Score: %.4f\" % f1_score)\n",
    "    print(\"\\nClassification Report: \\n\",classification_report)\n",
    "\n",
    "    return {\n",
    "        \"conf_matrix\": conf_matrix,\n",
    "        \"accuracy_score\": accuracy_score,\n",
    "        \"roc_auc_score\": roc_auc_score,\n",
    "        \"f1_score\": f1_score,\n",
    "        \"classification_report\": classification_report\n",
    "    }"
   ]
  },
  {
   "cell_type": "code",
   "execution_count": 16,
   "metadata": {},
   "outputs": [
    {
     "name": "stdout",
     "output_type": "stream",
     "text": [
      "Confusion Matrix: \n",
      "[[113854    118]\n",
      " [  2787   1349]]\n",
      "\n",
      "Accuracy: 0.9754\n",
      "\n",
      "AUC: 0.8755\n",
      "\n",
      "F1 Score: 0.4815\n",
      "\n",
      "Classification Report: \n",
      "               precision    recall  f1-score   support\n",
      "\n",
      "           0       0.98      1.00      0.99    113972\n",
      "           1       0.92      0.33      0.48      4136\n",
      "\n",
      "    accuracy                           0.98    118108\n",
      "   macro avg       0.95      0.66      0.73    118108\n",
      "weighted avg       0.97      0.98      0.97    118108\n",
      "\n"
     ]
    }
   ],
   "source": [
    "_ = calculate_scores(clf, X_val, y_val)"
   ]
  },
  {
   "cell_type": "markdown",
   "metadata": {},
   "source": [
    "# Hyperarameter Optimization"
   ]
  },
  {
   "cell_type": "markdown",
   "metadata": {},
   "source": [
    "Randomized Search:"
   ]
  },
  {
   "cell_type": "code",
   "execution_count": 8,
   "metadata": {},
   "outputs": [],
   "source": [
    "from sklearn.model_selection import RandomizedSearchCV\n",
    "from scipy.stats import uniform as sp_randFloat\n",
    "from scipy.stats import randint as sp_randInt  \n",
    "\n",
    "param_grid = {\n",
    "    'silent': [False],\n",
    "    'learning_rate': sp_randFloat(0.01, 0.3),\n",
    "    'n_estimators': [200],\n",
    "    'depth': sp_randInt(6, 16),\n",
    "    'l2_leaf_reg':[3,1,5,10,100],\n",
    "    'loss_function': ['Logloss', 'CrossEntropy']\n",
    "}\n",
    "\n",
    "def perform_random_search(\n",
    "    estimator, X_train, X_val, y_train, y_val, param_grid, scoring=None\n",
    "):\n",
    "    hyperparam_optimizer = RandomizedSearchCV(\n",
    "        estimator=estimator,\n",
    "        param_distributions=param_grid,\n",
    "        scoring=scoring,\n",
    "        cv=2,\n",
    "        n_iter=20,\n",
    "        n_jobs=1,\n",
    "        refit=True,\n",
    "        random_state=13,\n",
    "    )\n",
    "    hyperparam_optimizer.fit(X_train, y_train, eval_set=(X_val, y_val))\n",
    "\n",
    "    return hyperparam_optimizer.best_estimator_"
   ]
  },
  {
   "cell_type": "code",
   "execution_count": 11,
   "metadata": {
    "scrolled": true
   },
   "outputs": [
    {
     "name": "stderr",
     "output_type": "stream",
     "text": [
      "Warning: Overfitting detector is active, thus evaluation metric is calculated on every iteration. 'metric_period' is ignored for evaluation metric.\n"
     ]
    },
    {
     "name": "stdout",
     "output_type": "stream",
     "text": [
      "0:\tlearn: 0.3729272\ttest: 0.3732352\tbest: 0.3732352 (0)\ttotal: 134ms\tremaining: 26.6s\n",
      "199:\tlearn: 0.0609253\ttest: 0.0762992\tbest: 0.0762992 (199)\ttotal: 16s\tremaining: 0us\n",
      "\n",
      "bestTest = 0.07629918512\n",
      "bestIteration = 199\n",
      "\n"
     ]
    },
    {
     "name": "stderr",
     "output_type": "stream",
     "text": [
      "Warning: Overfitting detector is active, thus evaluation metric is calculated on every iteration. 'metric_period' is ignored for evaluation metric.\n"
     ]
    },
    {
     "name": "stdout",
     "output_type": "stream",
     "text": [
      "0:\tlearn: 0.3717054\ttest: 0.3720828\tbest: 0.3720828 (0)\ttotal: 77.2ms\tremaining: 15.4s\n",
      "199:\tlearn: 0.0618371\ttest: 0.0758618\tbest: 0.0758618 (199)\ttotal: 16s\tremaining: 0us\n",
      "\n",
      "bestTest = 0.07586180293\n",
      "bestIteration = 199\n",
      "\n"
     ]
    },
    {
     "name": "stderr",
     "output_type": "stream",
     "text": [
      "Warning: Overfitting detector is active, thus evaluation metric is calculated on every iteration. 'metric_period' is ignored for evaluation metric.\n"
     ]
    },
    {
     "name": "stdout",
     "output_type": "stream",
     "text": [
      "0:\tlearn: 0.4354961\ttest: 0.4357128\tbest: 0.4357128 (0)\ttotal: 74.7ms\tremaining: 14.9s\n",
      "199:\tlearn: 0.0797422\ttest: 0.0853030\tbest: 0.0853030 (199)\ttotal: 15.9s\tremaining: 0us\n",
      "\n",
      "bestTest = 0.0853030195\n",
      "bestIteration = 199\n",
      "\n"
     ]
    },
    {
     "name": "stderr",
     "output_type": "stream",
     "text": [
      "Warning: Overfitting detector is active, thus evaluation metric is calculated on every iteration. 'metric_period' is ignored for evaluation metric.\n"
     ]
    },
    {
     "name": "stdout",
     "output_type": "stream",
     "text": [
      "0:\tlearn: 0.4342225\ttest: 0.4344876\tbest: 0.4344876 (0)\ttotal: 76.7ms\tremaining: 15.3s\n",
      "199:\tlearn: 0.0840276\ttest: 0.0885463\tbest: 0.0885463 (199)\ttotal: 14.4s\tremaining: 0us\n",
      "\n",
      "bestTest = 0.08854631176\n",
      "bestIteration = 199\n",
      "\n"
     ]
    },
    {
     "name": "stderr",
     "output_type": "stream",
     "text": [
      "Warning: Overfitting detector is active, thus evaluation metric is calculated on every iteration. 'metric_period' is ignored for evaluation metric.\n"
     ]
    },
    {
     "name": "stdout",
     "output_type": "stream",
     "text": [
      "0:\tlearn: 0.1663067\ttest: 0.1666409\tbest: 0.1666409 (0)\ttotal: 119ms\tremaining: 23.6s\n",
      "199:\tlearn: 0.0397854\ttest: 0.0735952\tbest: 0.0735952 (199)\ttotal: 23.6s\tremaining: 0us\n",
      "\n",
      "bestTest = 0.07359518541\n",
      "bestIteration = 199\n",
      "\n"
     ]
    },
    {
     "name": "stderr",
     "output_type": "stream",
     "text": [
      "Warning: Overfitting detector is active, thus evaluation metric is calculated on every iteration. 'metric_period' is ignored for evaluation metric.\n"
     ]
    },
    {
     "name": "stdout",
     "output_type": "stream",
     "text": [
      "0:\tlearn: 0.1651728\ttest: 0.1659831\tbest: 0.1659831 (0)\ttotal: 118ms\tremaining: 23.4s\n",
      "199:\tlearn: 0.0413322\ttest: 0.0725475\tbest: 0.0725475 (199)\ttotal: 23.9s\tremaining: 0us\n",
      "\n",
      "bestTest = 0.07254749112\n",
      "bestIteration = 199\n",
      "\n"
     ]
    },
    {
     "name": "stderr",
     "output_type": "stream",
     "text": [
      "Warning: Overfitting detector is active, thus evaluation metric is calculated on every iteration. 'metric_period' is ignored for evaluation metric.\n"
     ]
    },
    {
     "name": "stdout",
     "output_type": "stream",
     "text": [
      "0:\tlearn: 0.6322758\ttest: 0.6323599\tbest: 0.6323599 (0)\ttotal: 688ms\tremaining: 2m 16s\n",
      "199:\tlearn: 0.0734582\ttest: 0.0833934\tbest: 0.0833934 (199)\ttotal: 2m 26s\tremaining: 0us\n",
      "\n",
      "bestTest = 0.08339338151\n",
      "bestIteration = 199\n",
      "\n"
     ]
    },
    {
     "name": "stderr",
     "output_type": "stream",
     "text": [
      "Warning: Overfitting detector is active, thus evaluation metric is calculated on every iteration. 'metric_period' is ignored for evaluation metric.\n"
     ]
    },
    {
     "name": "stdout",
     "output_type": "stream",
     "text": [
      "0:\tlearn: 0.6330539\ttest: 0.6331275\tbest: 0.6331275 (0)\ttotal: 733ms\tremaining: 2m 25s\n",
      "199:\tlearn: 0.0740383\ttest: 0.0838380\tbest: 0.0838380 (199)\ttotal: 2m 27s\tremaining: 0us\n",
      "\n",
      "bestTest = 0.0838380126\n",
      "bestIteration = 199\n",
      "\n"
     ]
    },
    {
     "name": "stderr",
     "output_type": "stream",
     "text": [
      "Warning: Overfitting detector is active, thus evaluation metric is calculated on every iteration. 'metric_period' is ignored for evaluation metric.\n"
     ]
    },
    {
     "name": "stdout",
     "output_type": "stream",
     "text": [
      "0:\tlearn: 0.1453009\ttest: 0.1457121\tbest: 0.1457121 (0)\ttotal: 78.6ms\tremaining: 15.6s\n",
      "199:\tlearn: 0.0418838\ttest: 0.0762036\tbest: 0.0762036 (199)\ttotal: 16.1s\tremaining: 0us\n",
      "\n",
      "bestTest = 0.07620364932\n",
      "bestIteration = 199\n",
      "\n"
     ]
    },
    {
     "name": "stderr",
     "output_type": "stream",
     "text": [
      "Warning: Overfitting detector is active, thus evaluation metric is calculated on every iteration. 'metric_period' is ignored for evaluation metric.\n"
     ]
    },
    {
     "name": "stdout",
     "output_type": "stream",
     "text": [
      "0:\tlearn: 0.1442811\ttest: 0.1451686\tbest: 0.1451686 (0)\ttotal: 77.5ms\tremaining: 15.4s\n",
      "199:\tlearn: 0.0429507\ttest: 0.0755115\tbest: 0.0754533 (197)\ttotal: 16.1s\tremaining: 0us\n",
      "\n",
      "bestTest = 0.07545329138\n",
      "bestIteration = 197\n",
      "\n",
      "Shrink model to first 198 iterations.\n"
     ]
    },
    {
     "name": "stderr",
     "output_type": "stream",
     "text": [
      "Warning: Overfitting detector is active, thus evaluation metric is calculated on every iteration. 'metric_period' is ignored for evaluation metric.\n"
     ]
    },
    {
     "name": "stdout",
     "output_type": "stream",
     "text": [
      "0:\tlearn: 0.3494645\ttest: 0.3498767\tbest: 0.3498767 (0)\ttotal: 675ms\tremaining: 2m 14s\n",
      "199:\tlearn: 0.0401070\ttest: 0.0679685\tbest: 0.0679685 (199)\ttotal: 2m 17s\tremaining: 0us\n",
      "\n",
      "bestTest = 0.06796853773\n",
      "bestIteration = 199\n",
      "\n"
     ]
    },
    {
     "name": "stderr",
     "output_type": "stream",
     "text": [
      "Warning: Overfitting detector is active, thus evaluation metric is calculated on every iteration. 'metric_period' is ignored for evaluation metric.\n"
     ]
    },
    {
     "name": "stdout",
     "output_type": "stream",
     "text": [
      "0:\tlearn: 0.3518604\ttest: 0.3522945\tbest: 0.3522945 (0)\ttotal: 695ms\tremaining: 2m 18s\n",
      "199:\tlearn: 0.0417106\ttest: 0.0693177\tbest: 0.0693177 (199)\ttotal: 2m 18s\tremaining: 0us\n",
      "\n",
      "bestTest = 0.06931766279\n",
      "bestIteration = 199\n",
      "\n"
     ]
    },
    {
     "name": "stderr",
     "output_type": "stream",
     "text": [
      "Warning: Overfitting detector is active, thus evaluation metric is calculated on every iteration. 'metric_period' is ignored for evaluation metric.\n"
     ]
    },
    {
     "name": "stdout",
     "output_type": "stream",
     "text": [
      "0:\tlearn: 0.4340926\ttest: 0.4342743\tbest: 0.4342743 (0)\ttotal: 2.39s\tremaining: 7m 55s\n",
      "199:\tlearn: 0.0639256\ttest: 0.0775277\tbest: 0.0775277 (199)\ttotal: 8m 6s\tremaining: 0us\n",
      "\n",
      "bestTest = 0.07752772439\n",
      "bestIteration = 199\n",
      "\n"
     ]
    },
    {
     "name": "stderr",
     "output_type": "stream",
     "text": [
      "Warning: Overfitting detector is active, thus evaluation metric is calculated on every iteration. 'metric_period' is ignored for evaluation metric.\n"
     ]
    },
    {
     "name": "stdout",
     "output_type": "stream",
     "text": [
      "0:\tlearn: 0.4327882\ttest: 0.4330441\tbest: 0.4330441 (0)\ttotal: 2.35s\tremaining: 7m 46s\n",
      "199:\tlearn: 0.0691884\ttest: 0.0804477\tbest: 0.0804477 (199)\ttotal: 8m 6s\tremaining: 0us\n",
      "\n",
      "bestTest = 0.08044769857\n",
      "bestIteration = 199\n",
      "\n"
     ]
    },
    {
     "name": "stderr",
     "output_type": "stream",
     "text": [
      "Warning: Overfitting detector is active, thus evaluation metric is calculated on every iteration. 'metric_period' is ignored for evaluation metric.\n"
     ]
    },
    {
     "name": "stdout",
     "output_type": "stream",
     "text": [
      "0:\tlearn: 0.1292971\ttest: 0.1297462\tbest: 0.1297462 (0)\ttotal: 278ms\tremaining: 55.4s\n",
      "199:\tlearn: 0.0306598\ttest: 0.0775629\tbest: 0.0770253 (170)\ttotal: 55.5s\tremaining: 0us\n",
      "\n",
      "bestTest = 0.07702531745\n",
      "bestIteration = 170\n",
      "\n",
      "Shrink model to first 171 iterations.\n"
     ]
    },
    {
     "name": "stderr",
     "output_type": "stream",
     "text": [
      "Warning: Overfitting detector is active, thus evaluation metric is calculated on every iteration. 'metric_period' is ignored for evaluation metric.\n"
     ]
    },
    {
     "name": "stdout",
     "output_type": "stream",
     "text": [
      "0:\tlearn: 0.1278995\ttest: 0.1290428\tbest: 0.1290428 (0)\ttotal: 272ms\tremaining: 54.2s\n",
      "199:\tlearn: 0.0325193\ttest: 0.0772116\tbest: 0.0771474 (189)\ttotal: 55.6s\tremaining: 0us\n",
      "\n",
      "bestTest = 0.07714737491\n",
      "bestIteration = 189\n",
      "\n",
      "Shrink model to first 190 iterations.\n"
     ]
    },
    {
     "name": "stderr",
     "output_type": "stream",
     "text": [
      "Warning: Overfitting detector is active, thus evaluation metric is calculated on every iteration. 'metric_period' is ignored for evaluation metric.\n"
     ]
    },
    {
     "name": "stdout",
     "output_type": "stream",
     "text": [
      "0:\tlearn: 0.3194216\ttest: 0.3199054\tbest: 0.3199054 (0)\ttotal: 2.42s\tremaining: 8m 1s\n",
      "199:\tlearn: 0.0078564\ttest: 0.0705343\tbest: 0.0690375 (138)\ttotal: 8m 9s\tremaining: 0us\n",
      "\n",
      "bestTest = 0.0690375478\n",
      "bestIteration = 138\n",
      "\n",
      "Shrink model to first 139 iterations.\n"
     ]
    },
    {
     "name": "stderr",
     "output_type": "stream",
     "text": [
      "Warning: Overfitting detector is active, thus evaluation metric is calculated on every iteration. 'metric_period' is ignored for evaluation metric.\n"
     ]
    },
    {
     "name": "stdout",
     "output_type": "stream",
     "text": [
      "0:\tlearn: 0.3201304\ttest: 0.3208861\tbest: 0.3208861 (0)\ttotal: 2.39s\tremaining: 7m 55s\n",
      "199:\tlearn: 0.0085592\ttest: 0.0722552\tbest: 0.0702259 (117)\ttotal: 8m 31s\tremaining: 0us\n",
      "\n",
      "bestTest = 0.07022590132\n",
      "bestIteration = 117\n",
      "\n",
      "Shrink model to first 118 iterations.\n"
     ]
    },
    {
     "name": "stderr",
     "output_type": "stream",
     "text": [
      "Warning: Overfitting detector is active, thus evaluation metric is calculated on every iteration. 'metric_period' is ignored for evaluation metric.\n"
     ]
    },
    {
     "name": "stdout",
     "output_type": "stream",
     "text": [
      "0:\tlearn: 0.4088609\ttest: 0.4092179\tbest: 0.4092179 (0)\ttotal: 1.42s\tremaining: 4m 42s\n",
      "199:\tlearn: 0.0322325\ttest: 0.0652756\tbest: 0.0652756 (199)\ttotal: 4m 16s\tremaining: 0us\n",
      "\n",
      "bestTest = 0.06527564847\n",
      "bestIteration = 199\n",
      "\n"
     ]
    },
    {
     "name": "stderr",
     "output_type": "stream",
     "text": [
      "Warning: Overfitting detector is active, thus evaluation metric is calculated on every iteration. 'metric_period' is ignored for evaluation metric.\n"
     ]
    },
    {
     "name": "stdout",
     "output_type": "stream",
     "text": [
      "0:\tlearn: 0.4115884\ttest: 0.4119540\tbest: 0.4119540 (0)\ttotal: 1.25s\tremaining: 4m 9s\n",
      "199:\tlearn: 0.0330565\ttest: 0.0672450\tbest: 0.0672450 (199)\ttotal: 4m 8s\tremaining: 0us\n",
      "\n",
      "bestTest = 0.06724497864\n",
      "bestIteration = 199\n",
      "\n"
     ]
    },
    {
     "name": "stderr",
     "output_type": "stream",
     "text": [
      "Warning: Overfitting detector is active, thus evaluation metric is calculated on every iteration. 'metric_period' is ignored for evaluation metric.\n"
     ]
    },
    {
     "name": "stdout",
     "output_type": "stream",
     "text": [
      "0:\tlearn: 0.2226549\ttest: 0.2230401\tbest: 0.2230401 (0)\ttotal: 109ms\tremaining: 21.8s\n",
      "199:\tlearn: 0.0491339\ttest: 0.0729176\tbest: 0.0729176 (199)\ttotal: 22.1s\tremaining: 0us\n",
      "\n",
      "bestTest = 0.07291763385\n",
      "bestIteration = 199\n",
      "\n"
     ]
    },
    {
     "name": "stderr",
     "output_type": "stream",
     "text": [
      "Warning: Overfitting detector is active, thus evaluation metric is calculated on every iteration. 'metric_period' is ignored for evaluation metric.\n"
     ]
    },
    {
     "name": "stdout",
     "output_type": "stream",
     "text": [
      "0:\tlearn: 0.2208511\ttest: 0.2214960\tbest: 0.2214960 (0)\ttotal: 114ms\tremaining: 22.7s\n",
      "199:\tlearn: 0.0500998\ttest: 0.0727718\tbest: 0.0727691 (198)\ttotal: 22.2s\tremaining: 0us\n",
      "\n",
      "bestTest = 0.07276906397\n",
      "bestIteration = 198\n",
      "\n",
      "Shrink model to first 199 iterations.\n"
     ]
    },
    {
     "name": "stderr",
     "output_type": "stream",
     "text": [
      "Warning: Overfitting detector is active, thus evaluation metric is calculated on every iteration. 'metric_period' is ignored for evaluation metric.\n"
     ]
    },
    {
     "name": "stdout",
     "output_type": "stream",
     "text": [
      "0:\tlearn: 0.6931260\ttest: 0.6931261\tbest: 0.6931261 (0)\ttotal: 110ms\tremaining: 21.9s\n",
      "199:\tlearn: 0.6890042\ttest: 0.6890071\tbest: 0.6890071 (199)\ttotal: 20.7s\tremaining: 0us\n",
      "\n",
      "bestTest = 0.6890071029\n",
      "bestIteration = 199\n",
      "\n"
     ]
    },
    {
     "name": "stderr",
     "output_type": "stream",
     "text": [
      "Warning: Overfitting detector is active, thus evaluation metric is calculated on every iteration. 'metric_period' is ignored for evaluation metric.\n"
     ]
    },
    {
     "name": "stdout",
     "output_type": "stream",
     "text": [
      "0:\tlearn: 0.6931259\ttest: 0.6931260\tbest: 0.6931260 (0)\ttotal: 116ms\tremaining: 23.1s\n",
      "199:\tlearn: 0.6889823\ttest: 0.6889857\tbest: 0.6889857 (199)\ttotal: 20.9s\tremaining: 0us\n",
      "\n",
      "bestTest = 0.688985712\n",
      "bestIteration = 199\n",
      "\n"
     ]
    },
    {
     "name": "stderr",
     "output_type": "stream",
     "text": [
      "Warning: Overfitting detector is active, thus evaluation metric is calculated on every iteration. 'metric_period' is ignored for evaluation metric.\n"
     ]
    },
    {
     "name": "stdout",
     "output_type": "stream",
     "text": [
      "0:\tlearn: 0.1654783\ttest: 0.1658278\tbest: 0.1658278 (0)\ttotal: 698ms\tremaining: 2m 18s\n",
      "199:\tlearn: 0.0503763\ttest: 0.0727961\tbest: 0.0727961 (199)\ttotal: 2m 18s\tremaining: 0us\n",
      "\n",
      "bestTest = 0.07279611\n",
      "bestIteration = 199\n",
      "\n"
     ]
    },
    {
     "name": "stderr",
     "output_type": "stream",
     "text": [
      "Warning: Overfitting detector is active, thus evaluation metric is calculated on every iteration. 'metric_period' is ignored for evaluation metric.\n"
     ]
    },
    {
     "name": "stdout",
     "output_type": "stream",
     "text": [
      "0:\tlearn: 0.1641665\ttest: 0.1648990\tbest: 0.1648990 (0)\ttotal: 699ms\tremaining: 2m 19s\n",
      "199:\tlearn: 0.0539359\ttest: 0.0738418\tbest: 0.0738418 (199)\ttotal: 2m 17s\tremaining: 0us\n",
      "\n",
      "bestTest = 0.07384182514\n",
      "bestIteration = 199\n",
      "\n"
     ]
    },
    {
     "name": "stderr",
     "output_type": "stream",
     "text": [
      "Warning: Overfitting detector is active, thus evaluation metric is calculated on every iteration. 'metric_period' is ignored for evaluation metric.\n"
     ]
    },
    {
     "name": "stdout",
     "output_type": "stream",
     "text": [
      "0:\tlearn: 0.2233581\ttest: 0.2236168\tbest: 0.2236168 (0)\ttotal: 46.2ms\tremaining: 9.2s\n",
      "199:\tlearn: 0.0610048\ttest: 0.0772361\tbest: 0.0772361 (199)\ttotal: 9.4s\tremaining: 0us\n",
      "\n",
      "bestTest = 0.07723613214\n",
      "bestIteration = 199\n",
      "\n"
     ]
    },
    {
     "name": "stderr",
     "output_type": "stream",
     "text": [
      "Warning: Overfitting detector is active, thus evaluation metric is calculated on every iteration. 'metric_period' is ignored for evaluation metric.\n"
     ]
    },
    {
     "name": "stdout",
     "output_type": "stream",
     "text": [
      "0:\tlearn: 0.2221416\ttest: 0.2226085\tbest: 0.2226085 (0)\ttotal: 49.2ms\tremaining: 9.79s\n",
      "199:\tlearn: 0.0614967\ttest: 0.0770187\tbest: 0.0770187 (199)\ttotal: 9.29s\tremaining: 0us\n",
      "\n",
      "bestTest = 0.07701867662\n",
      "bestIteration = 199\n",
      "\n"
     ]
    },
    {
     "name": "stderr",
     "output_type": "stream",
     "text": [
      "Warning: Overfitting detector is active, thus evaluation metric is calculated on every iteration. 'metric_period' is ignored for evaluation metric.\n"
     ]
    },
    {
     "name": "stdout",
     "output_type": "stream",
     "text": [
      "0:\tlearn: 0.1871651\ttest: 0.1874996\tbest: 0.1874996 (0)\ttotal: 110ms\tremaining: 21.9s\n",
      "199:\tlearn: 0.0421433\ttest: 0.0719762\tbest: 0.0719762 (199)\ttotal: 22.4s\tremaining: 0us\n",
      "\n",
      "bestTest = 0.0719761554\n",
      "bestIteration = 199\n",
      "\n"
     ]
    },
    {
     "name": "stderr",
     "output_type": "stream",
     "text": [
      "Warning: Overfitting detector is active, thus evaluation metric is calculated on every iteration. 'metric_period' is ignored for evaluation metric.\n"
     ]
    },
    {
     "name": "stdout",
     "output_type": "stream",
     "text": [
      "0:\tlearn: 0.1859760\ttest: 0.1867226\tbest: 0.1867226 (0)\ttotal: 111ms\tremaining: 22.1s\n",
      "199:\tlearn: 0.0432603\ttest: 0.0726948\tbest: 0.0726948 (199)\ttotal: 22.3s\tremaining: 0us\n",
      "\n",
      "bestTest = 0.07269482572\n",
      "bestIteration = 199\n",
      "\n"
     ]
    },
    {
     "name": "stderr",
     "output_type": "stream",
     "text": [
      "Warning: Overfitting detector is active, thus evaluation metric is calculated on every iteration. 'metric_period' is ignored for evaluation metric.\n"
     ]
    },
    {
     "name": "stdout",
     "output_type": "stream",
     "text": [
      "0:\tlearn: 0.1793200\ttest: 0.1797683\tbest: 0.1797683 (0)\ttotal: 2.45s\tremaining: 8m 6s\n",
      "199:\tlearn: 0.0140076\ttest: 0.0692044\tbest: 0.0689025 (174)\ttotal: 8m 7s\tremaining: 0us\n",
      "\n",
      "bestTest = 0.06890248954\n",
      "bestIteration = 174\n",
      "\n",
      "Shrink model to first 175 iterations.\n"
     ]
    },
    {
     "name": "stderr",
     "output_type": "stream",
     "text": [
      "Warning: Overfitting detector is active, thus evaluation metric is calculated on every iteration. 'metric_period' is ignored for evaluation metric.\n"
     ]
    },
    {
     "name": "stdout",
     "output_type": "stream",
     "text": [
      "0:\tlearn: 0.1810170\ttest: 0.1818230\tbest: 0.1818230 (0)\ttotal: 2.45s\tremaining: 8m 7s\n",
      "199:\tlearn: 0.0174887\ttest: 0.0699005\tbest: 0.0696513 (177)\ttotal: 8m 10s\tremaining: 0us\n",
      "\n",
      "bestTest = 0.0696513259\n",
      "bestIteration = 177\n",
      "\n",
      "Shrink model to first 178 iterations.\n"
     ]
    },
    {
     "name": "stderr",
     "output_type": "stream",
     "text": [
      "Warning: Overfitting detector is active, thus evaluation metric is calculated on every iteration. 'metric_period' is ignored for evaluation metric.\n"
     ]
    },
    {
     "name": "stdout",
     "output_type": "stream",
     "text": [
      "0:\tlearn: 0.1488758\ttest: 0.1491521\tbest: 0.1491521 (0)\ttotal: 42.7ms\tremaining: 8.49s\n",
      "199:\tlearn: 0.0588474\ttest: 0.0786024\tbest: 0.0786024 (199)\ttotal: 9.21s\tremaining: 0us\n",
      "\n",
      "bestTest = 0.07860235327\n",
      "bestIteration = 199\n",
      "\n"
     ]
    },
    {
     "name": "stderr",
     "output_type": "stream",
     "text": [
      "Warning: Overfitting detector is active, thus evaluation metric is calculated on every iteration. 'metric_period' is ignored for evaluation metric.\n"
     ]
    },
    {
     "name": "stdout",
     "output_type": "stream",
     "text": [
      "0:\tlearn: 0.1478748\ttest: 0.1486524\tbest: 0.1486524 (0)\ttotal: 43.5ms\tremaining: 8.66s\n",
      "199:\tlearn: 0.0584743\ttest: 0.0777829\tbest: 0.0777440 (196)\ttotal: 9.19s\tremaining: 0us\n",
      "\n",
      "bestTest = 0.07774395635\n",
      "bestIteration = 196\n",
      "\n",
      "Shrink model to first 197 iterations.\n"
     ]
    },
    {
     "name": "stderr",
     "output_type": "stream",
     "text": [
      "Warning: Overfitting detector is active, thus evaluation metric is calculated on every iteration. 'metric_period' is ignored for evaluation metric.\n"
     ]
    },
    {
     "name": "stdout",
     "output_type": "stream",
     "text": [
      "0:\tlearn: 0.4337471\ttest: 0.4339877\tbest: 0.4339877 (0)\ttotal: 429ms\tremaining: 1m 25s\n",
      "199:\tlearn: 0.0388019\ttest: 0.0686006\tbest: 0.0686006 (199)\ttotal: 1m 24s\tremaining: 0us\n",
      "\n",
      "bestTest = 0.06860062066\n",
      "bestIteration = 199\n",
      "\n"
     ]
    },
    {
     "name": "stderr",
     "output_type": "stream",
     "text": [
      "Warning: Overfitting detector is active, thus evaluation metric is calculated on every iteration. 'metric_period' is ignored for evaluation metric.\n"
     ]
    },
    {
     "name": "stdout",
     "output_type": "stream",
     "text": [
      "0:\tlearn: 0.4328535\ttest: 0.4332182\tbest: 0.4332182 (0)\ttotal: 421ms\tremaining: 1m 23s\n",
      "199:\tlearn: 0.0411402\ttest: 0.0693453\tbest: 0.0693453 (199)\ttotal: 1m 25s\tremaining: 0us\n",
      "\n",
      "bestTest = 0.06934527728\n",
      "bestIteration = 199\n",
      "\n"
     ]
    },
    {
     "name": "stderr",
     "output_type": "stream",
     "text": [
      "Warning: Overfitting detector is active, thus evaluation metric is calculated on every iteration. 'metric_period' is ignored for evaluation metric.\n"
     ]
    },
    {
     "name": "stdout",
     "output_type": "stream",
     "text": [
      "0:\tlearn: 0.1719746\ttest: 0.1726591\tbest: 0.1726591 (0)\ttotal: 687ms\tremaining: 2m 16s\n",
      "199:\tlearn: 0.0096104\ttest: 0.0816150\tbest: 0.0770208 (91)\ttotal: 2m 19s\tremaining: 0us\n",
      "\n",
      "bestTest = 0.07702082961\n",
      "bestIteration = 91\n",
      "\n",
      "Shrink model to first 92 iterations.\n"
     ]
    },
    {
     "name": "stderr",
     "output_type": "stream",
     "text": [
      "Warning: Overfitting detector is active, thus evaluation metric is calculated on every iteration. 'metric_period' is ignored for evaluation metric.\n"
     ]
    },
    {
     "name": "stdout",
     "output_type": "stream",
     "text": [
      "0:\tlearn: 0.1722226\ttest: 0.1734552\tbest: 0.1734552 (0)\ttotal: 690ms\tremaining: 2m 17s\n",
      "199:\tlearn: 0.0095227\ttest: 0.0814562\tbest: 0.0768382 (78)\ttotal: 2m 20s\tremaining: 0us\n",
      "\n",
      "bestTest = 0.07683818156\n",
      "bestIteration = 78\n",
      "\n",
      "Shrink model to first 79 iterations.\n"
     ]
    },
    {
     "name": "stderr",
     "output_type": "stream",
     "text": [
      "Warning: Overfitting detector is active, thus evaluation metric is calculated on every iteration. 'metric_period' is ignored for evaluation metric.\n"
     ]
    },
    {
     "name": "stdout",
     "output_type": "stream",
     "text": [
      "0:\tlearn: 0.1334633\ttest: 0.1338029\tbest: 0.1338029 (0)\ttotal: 57.3ms\tremaining: 11.4s\n",
      "199:\tlearn: 0.0525424\ttest: 0.0768041\tbest: 0.0768041 (199)\ttotal: 11.3s\tremaining: 0us\n",
      "\n",
      "bestTest = 0.07680409854\n",
      "bestIteration = 199\n",
      "\n"
     ]
    },
    {
     "name": "stderr",
     "output_type": "stream",
     "text": [
      "Warning: Overfitting detector is active, thus evaluation metric is calculated on every iteration. 'metric_period' is ignored for evaluation metric.\n"
     ]
    },
    {
     "name": "stdout",
     "output_type": "stream",
     "text": [
      "0:\tlearn: 0.1324851\ttest: 0.1334653\tbest: 0.1334653 (0)\ttotal: 54.3ms\tremaining: 10.8s\n",
      "199:\tlearn: 0.0528575\ttest: 0.0781396\tbest: 0.0781357 (196)\ttotal: 11.2s\tremaining: 0us\n",
      "\n",
      "bestTest = 0.07813565154\n",
      "bestIteration = 196\n",
      "\n",
      "Shrink model to first 197 iterations.\n"
     ]
    },
    {
     "name": "stderr",
     "output_type": "stream",
     "text": [
      "Warning: Overfitting detector is active, thus evaluation metric is calculated on every iteration. 'metric_period' is ignored for evaluation metric.\n"
     ]
    },
    {
     "name": "stdout",
     "output_type": "stream",
     "text": [
      "0:\tlearn: 0.1734551\ttest: 0.1746899\tbest: 0.1746899 (0)\ttotal: 2.78s\tremaining: 9m 13s\n",
      "199:\tlearn: 0.0159368\ttest: 0.0550455\tbest: 0.0550294 (195)\ttotal: 9m 15s\tremaining: 0us\n",
      "\n",
      "bestTest = 0.05502935718\n",
      "bestIteration = 195\n",
      "\n",
      "Shrink model to first 196 iterations.\n",
      "Confusion Matrix: \n",
      "[[113824    148]\n",
      " [  1559   2577]]\n",
      "\n",
      "Accuracy: 0.9855\n",
      "\n",
      "AUC: 0.9570\n",
      "\n",
      "F1 Score: 0.7512\n",
      "\n",
      "Classification Report: \n",
      "               precision    recall  f1-score   support\n",
      "\n",
      "           0       0.99      1.00      0.99    113972\n",
      "           1       0.95      0.62      0.75      4136\n",
      "\n",
      "    accuracy                           0.99    118108\n",
      "   macro avg       0.97      0.81      0.87    118108\n",
      "weighted avg       0.99      0.99      0.98    118108\n",
      "\n"
     ]
    }
   ],
   "source": [
    "# accuracy score\n",
    "best_estimator = perform_random_search(clf, X_train, X_val, y_train, y_val, param_grid, scoring='accuracy')\n",
    "_ = calculate_scores(best_estimator, X_val, y_val)"
   ]
  },
  {
   "cell_type": "code",
   "execution_count": 12,
   "metadata": {
    "scrolled": true
   },
   "outputs": [
    {
     "name": "stderr",
     "output_type": "stream",
     "text": [
      "Warning: Overfitting detector is active, thus evaluation metric is calculated on every iteration. 'metric_period' is ignored for evaluation metric.\n"
     ]
    },
    {
     "name": "stdout",
     "output_type": "stream",
     "text": [
      "0:\tlearn: 0.3729272\ttest: 0.3732352\tbest: 0.3732352 (0)\ttotal: 76.1ms\tremaining: 15.1s\n",
      "199:\tlearn: 0.0609253\ttest: 0.0762992\tbest: 0.0762992 (199)\ttotal: 15.2s\tremaining: 0us\n",
      "\n",
      "bestTest = 0.07629918512\n",
      "bestIteration = 199\n",
      "\n"
     ]
    },
    {
     "name": "stderr",
     "output_type": "stream",
     "text": [
      "Warning: Overfitting detector is active, thus evaluation metric is calculated on every iteration. 'metric_period' is ignored for evaluation metric.\n"
     ]
    },
    {
     "name": "stdout",
     "output_type": "stream",
     "text": [
      "0:\tlearn: 0.3717054\ttest: 0.3720828\tbest: 0.3720828 (0)\ttotal: 72.6ms\tremaining: 14.4s\n",
      "199:\tlearn: 0.0618371\ttest: 0.0758618\tbest: 0.0758618 (199)\ttotal: 15.1s\tremaining: 0us\n",
      "\n",
      "bestTest = 0.07586180293\n",
      "bestIteration = 199\n",
      "\n"
     ]
    },
    {
     "name": "stderr",
     "output_type": "stream",
     "text": [
      "Warning: Overfitting detector is active, thus evaluation metric is calculated on every iteration. 'metric_period' is ignored for evaluation metric.\n"
     ]
    },
    {
     "name": "stdout",
     "output_type": "stream",
     "text": [
      "0:\tlearn: 0.4354961\ttest: 0.4357128\tbest: 0.4357128 (0)\ttotal: 72.4ms\tremaining: 14.4s\n",
      "199:\tlearn: 0.0797422\ttest: 0.0853030\tbest: 0.0853030 (199)\ttotal: 14.4s\tremaining: 0us\n",
      "\n",
      "bestTest = 0.0853030195\n",
      "bestIteration = 199\n",
      "\n"
     ]
    },
    {
     "name": "stderr",
     "output_type": "stream",
     "text": [
      "Warning: Overfitting detector is active, thus evaluation metric is calculated on every iteration. 'metric_period' is ignored for evaluation metric.\n"
     ]
    },
    {
     "name": "stdout",
     "output_type": "stream",
     "text": [
      "0:\tlearn: 0.4342225\ttest: 0.4344876\tbest: 0.4344876 (0)\ttotal: 72.3ms\tremaining: 14.4s\n",
      "199:\tlearn: 0.0840276\ttest: 0.0885463\tbest: 0.0885463 (199)\ttotal: 13.6s\tremaining: 0us\n",
      "\n",
      "bestTest = 0.08854631176\n",
      "bestIteration = 199\n",
      "\n"
     ]
    },
    {
     "name": "stderr",
     "output_type": "stream",
     "text": [
      "Warning: Overfitting detector is active, thus evaluation metric is calculated on every iteration. 'metric_period' is ignored for evaluation metric.\n"
     ]
    },
    {
     "name": "stdout",
     "output_type": "stream",
     "text": [
      "0:\tlearn: 0.1663067\ttest: 0.1666409\tbest: 0.1666409 (0)\ttotal: 109ms\tremaining: 21.7s\n",
      "199:\tlearn: 0.0397854\ttest: 0.0735952\tbest: 0.0735952 (199)\ttotal: 22.1s\tremaining: 0us\n",
      "\n",
      "bestTest = 0.07359518541\n",
      "bestIteration = 199\n",
      "\n"
     ]
    },
    {
     "name": "stderr",
     "output_type": "stream",
     "text": [
      "Warning: Overfitting detector is active, thus evaluation metric is calculated on every iteration. 'metric_period' is ignored for evaluation metric.\n"
     ]
    },
    {
     "name": "stdout",
     "output_type": "stream",
     "text": [
      "0:\tlearn: 0.1651728\ttest: 0.1659831\tbest: 0.1659831 (0)\ttotal: 113ms\tremaining: 22.4s\n",
      "199:\tlearn: 0.0413322\ttest: 0.0725475\tbest: 0.0725475 (199)\ttotal: 22.3s\tremaining: 0us\n",
      "\n",
      "bestTest = 0.07254749112\n",
      "bestIteration = 199\n",
      "\n"
     ]
    },
    {
     "name": "stderr",
     "output_type": "stream",
     "text": [
      "Warning: Overfitting detector is active, thus evaluation metric is calculated on every iteration. 'metric_period' is ignored for evaluation metric.\n"
     ]
    },
    {
     "name": "stdout",
     "output_type": "stream",
     "text": [
      "0:\tlearn: 0.6322758\ttest: 0.6323599\tbest: 0.6323599 (0)\ttotal: 775ms\tremaining: 2m 34s\n",
      "199:\tlearn: 0.0734582\ttest: 0.0833934\tbest: 0.0833934 (199)\ttotal: 2m 20s\tremaining: 0us\n",
      "\n",
      "bestTest = 0.08339338151\n",
      "bestIteration = 199\n",
      "\n"
     ]
    },
    {
     "name": "stderr",
     "output_type": "stream",
     "text": [
      "Warning: Overfitting detector is active, thus evaluation metric is calculated on every iteration. 'metric_period' is ignored for evaluation metric.\n"
     ]
    },
    {
     "name": "stdout",
     "output_type": "stream",
     "text": [
      "0:\tlearn: 0.6330539\ttest: 0.6331275\tbest: 0.6331275 (0)\ttotal: 701ms\tremaining: 2m 19s\n",
      "199:\tlearn: 0.0740383\ttest: 0.0838380\tbest: 0.0838380 (199)\ttotal: 2m 22s\tremaining: 0us\n",
      "\n",
      "bestTest = 0.0838380126\n",
      "bestIteration = 199\n",
      "\n"
     ]
    },
    {
     "name": "stderr",
     "output_type": "stream",
     "text": [
      "Warning: Overfitting detector is active, thus evaluation metric is calculated on every iteration. 'metric_period' is ignored for evaluation metric.\n"
     ]
    },
    {
     "name": "stdout",
     "output_type": "stream",
     "text": [
      "0:\tlearn: 0.1453009\ttest: 0.1457121\tbest: 0.1457121 (0)\ttotal: 73.3ms\tremaining: 14.6s\n",
      "199:\tlearn: 0.0418838\ttest: 0.0762036\tbest: 0.0762036 (199)\ttotal: 16.1s\tremaining: 0us\n",
      "\n",
      "bestTest = 0.07620364932\n",
      "bestIteration = 199\n",
      "\n"
     ]
    },
    {
     "name": "stderr",
     "output_type": "stream",
     "text": [
      "Warning: Overfitting detector is active, thus evaluation metric is calculated on every iteration. 'metric_period' is ignored for evaluation metric.\n"
     ]
    },
    {
     "name": "stdout",
     "output_type": "stream",
     "text": [
      "0:\tlearn: 0.1442811\ttest: 0.1451686\tbest: 0.1451686 (0)\ttotal: 72.6ms\tremaining: 14.5s\n",
      "199:\tlearn: 0.0429507\ttest: 0.0755115\tbest: 0.0754533 (197)\ttotal: 16.4s\tremaining: 0us\n",
      "\n",
      "bestTest = 0.07545329138\n",
      "bestIteration = 197\n",
      "\n",
      "Shrink model to first 198 iterations.\n"
     ]
    },
    {
     "name": "stderr",
     "output_type": "stream",
     "text": [
      "Warning: Overfitting detector is active, thus evaluation metric is calculated on every iteration. 'metric_period' is ignored for evaluation metric.\n"
     ]
    },
    {
     "name": "stdout",
     "output_type": "stream",
     "text": [
      "0:\tlearn: 0.3494645\ttest: 0.3498767\tbest: 0.3498767 (0)\ttotal: 703ms\tremaining: 2m 19s\n",
      "199:\tlearn: 0.0401070\ttest: 0.0679685\tbest: 0.0679685 (199)\ttotal: 2m 23s\tremaining: 0us\n",
      "\n",
      "bestTest = 0.06796853773\n",
      "bestIteration = 199\n",
      "\n"
     ]
    },
    {
     "name": "stderr",
     "output_type": "stream",
     "text": [
      "Warning: Overfitting detector is active, thus evaluation metric is calculated on every iteration. 'metric_period' is ignored for evaluation metric.\n"
     ]
    },
    {
     "name": "stdout",
     "output_type": "stream",
     "text": [
      "0:\tlearn: 0.3518604\ttest: 0.3522945\tbest: 0.3522945 (0)\ttotal: 697ms\tremaining: 2m 18s\n",
      "199:\tlearn: 0.0417106\ttest: 0.0693177\tbest: 0.0693177 (199)\ttotal: 2m 24s\tremaining: 0us\n",
      "\n",
      "bestTest = 0.06931766279\n",
      "bestIteration = 199\n",
      "\n"
     ]
    },
    {
     "name": "stderr",
     "output_type": "stream",
     "text": [
      "Warning: Overfitting detector is active, thus evaluation metric is calculated on every iteration. 'metric_period' is ignored for evaluation metric.\n"
     ]
    },
    {
     "name": "stdout",
     "output_type": "stream",
     "text": [
      "0:\tlearn: 0.4340926\ttest: 0.4342743\tbest: 0.4342743 (0)\ttotal: 2.49s\tremaining: 8m 14s\n",
      "199:\tlearn: 0.0639256\ttest: 0.0775277\tbest: 0.0775277 (199)\ttotal: 8m 24s\tremaining: 0us\n",
      "\n",
      "bestTest = 0.07752772439\n",
      "bestIteration = 199\n",
      "\n"
     ]
    },
    {
     "name": "stderr",
     "output_type": "stream",
     "text": [
      "Warning: Overfitting detector is active, thus evaluation metric is calculated on every iteration. 'metric_period' is ignored for evaluation metric.\n"
     ]
    },
    {
     "name": "stdout",
     "output_type": "stream",
     "text": [
      "0:\tlearn: 0.4327882\ttest: 0.4330441\tbest: 0.4330441 (0)\ttotal: 2.46s\tremaining: 8m 9s\n",
      "199:\tlearn: 0.0691884\ttest: 0.0804477\tbest: 0.0804477 (199)\ttotal: 8m 25s\tremaining: 0us\n",
      "\n",
      "bestTest = 0.08044769857\n",
      "bestIteration = 199\n",
      "\n"
     ]
    },
    {
     "name": "stderr",
     "output_type": "stream",
     "text": [
      "Warning: Overfitting detector is active, thus evaluation metric is calculated on every iteration. 'metric_period' is ignored for evaluation metric.\n"
     ]
    },
    {
     "name": "stdout",
     "output_type": "stream",
     "text": [
      "0:\tlearn: 0.1292971\ttest: 0.1297462\tbest: 0.1297462 (0)\ttotal: 282ms\tremaining: 56.1s\n",
      "199:\tlearn: 0.0306598\ttest: 0.0775629\tbest: 0.0770253 (170)\ttotal: 58s\tremaining: 0us\n",
      "\n",
      "bestTest = 0.07702531745\n",
      "bestIteration = 170\n",
      "\n",
      "Shrink model to first 171 iterations.\n"
     ]
    },
    {
     "name": "stderr",
     "output_type": "stream",
     "text": [
      "Warning: Overfitting detector is active, thus evaluation metric is calculated on every iteration. 'metric_period' is ignored for evaluation metric.\n"
     ]
    },
    {
     "name": "stdout",
     "output_type": "stream",
     "text": [
      "0:\tlearn: 0.1278995\ttest: 0.1290428\tbest: 0.1290428 (0)\ttotal: 289ms\tremaining: 57.5s\n",
      "199:\tlearn: 0.0325193\ttest: 0.0772116\tbest: 0.0771474 (189)\ttotal: 59.1s\tremaining: 0us\n",
      "\n",
      "bestTest = 0.07714737491\n",
      "bestIteration = 189\n",
      "\n",
      "Shrink model to first 190 iterations.\n"
     ]
    },
    {
     "name": "stderr",
     "output_type": "stream",
     "text": [
      "Warning: Overfitting detector is active, thus evaluation metric is calculated on every iteration. 'metric_period' is ignored for evaluation metric.\n"
     ]
    },
    {
     "name": "stdout",
     "output_type": "stream",
     "text": [
      "0:\tlearn: 0.3194216\ttest: 0.3199054\tbest: 0.3199054 (0)\ttotal: 2.42s\tremaining: 8m 2s\n",
      "199:\tlearn: 0.0078564\ttest: 0.0705343\tbest: 0.0690375 (138)\ttotal: 8m 19s\tremaining: 0us\n",
      "\n",
      "bestTest = 0.0690375478\n",
      "bestIteration = 138\n",
      "\n",
      "Shrink model to first 139 iterations.\n"
     ]
    },
    {
     "name": "stderr",
     "output_type": "stream",
     "text": [
      "Warning: Overfitting detector is active, thus evaluation metric is calculated on every iteration. 'metric_period' is ignored for evaluation metric.\n"
     ]
    },
    {
     "name": "stdout",
     "output_type": "stream",
     "text": [
      "0:\tlearn: 0.3201304\ttest: 0.3208861\tbest: 0.3208861 (0)\ttotal: 2.47s\tremaining: 8m 11s\n",
      "199:\tlearn: 0.0085592\ttest: 0.0722552\tbest: 0.0702259 (117)\ttotal: 8m 33s\tremaining: 0us\n",
      "\n",
      "bestTest = 0.07022590132\n",
      "bestIteration = 117\n",
      "\n",
      "Shrink model to first 118 iterations.\n"
     ]
    },
    {
     "name": "stderr",
     "output_type": "stream",
     "text": [
      "Warning: Overfitting detector is active, thus evaluation metric is calculated on every iteration. 'metric_period' is ignored for evaluation metric.\n"
     ]
    },
    {
     "name": "stdout",
     "output_type": "stream",
     "text": [
      "0:\tlearn: 0.4088609\ttest: 0.4092179\tbest: 0.4092179 (0)\ttotal: 1.32s\tremaining: 4m 22s\n",
      "199:\tlearn: 0.0322325\ttest: 0.0652756\tbest: 0.0652756 (199)\ttotal: 4m 12s\tremaining: 0us\n",
      "\n",
      "bestTest = 0.06527564847\n",
      "bestIteration = 199\n",
      "\n"
     ]
    },
    {
     "name": "stderr",
     "output_type": "stream",
     "text": [
      "Warning: Overfitting detector is active, thus evaluation metric is calculated on every iteration. 'metric_period' is ignored for evaluation metric.\n"
     ]
    },
    {
     "name": "stdout",
     "output_type": "stream",
     "text": [
      "0:\tlearn: 0.4115884\ttest: 0.4119540\tbest: 0.4119540 (0)\ttotal: 1.24s\tremaining: 4m 7s\n",
      "199:\tlearn: 0.0330565\ttest: 0.0672450\tbest: 0.0672450 (199)\ttotal: 4m 7s\tremaining: 0us\n",
      "\n",
      "bestTest = 0.06724497864\n",
      "bestIteration = 199\n",
      "\n"
     ]
    },
    {
     "name": "stderr",
     "output_type": "stream",
     "text": [
      "Warning: Overfitting detector is active, thus evaluation metric is calculated on every iteration. 'metric_period' is ignored for evaluation metric.\n"
     ]
    },
    {
     "name": "stdout",
     "output_type": "stream",
     "text": [
      "0:\tlearn: 0.2226549\ttest: 0.2230401\tbest: 0.2230401 (0)\ttotal: 111ms\tremaining: 22.1s\n",
      "199:\tlearn: 0.0491339\ttest: 0.0729176\tbest: 0.0729176 (199)\ttotal: 22.2s\tremaining: 0us\n",
      "\n",
      "bestTest = 0.07291763385\n",
      "bestIteration = 199\n",
      "\n"
     ]
    },
    {
     "name": "stderr",
     "output_type": "stream",
     "text": [
      "Warning: Overfitting detector is active, thus evaluation metric is calculated on every iteration. 'metric_period' is ignored for evaluation metric.\n"
     ]
    },
    {
     "name": "stdout",
     "output_type": "stream",
     "text": [
      "0:\tlearn: 0.2208511\ttest: 0.2214960\tbest: 0.2214960 (0)\ttotal: 109ms\tremaining: 21.7s\n",
      "199:\tlearn: 0.0500998\ttest: 0.0727718\tbest: 0.0727691 (198)\ttotal: 22.3s\tremaining: 0us\n",
      "\n",
      "bestTest = 0.07276906397\n",
      "bestIteration = 198\n",
      "\n",
      "Shrink model to first 199 iterations.\n"
     ]
    },
    {
     "name": "stderr",
     "output_type": "stream",
     "text": [
      "Warning: Overfitting detector is active, thus evaluation metric is calculated on every iteration. 'metric_period' is ignored for evaluation metric.\n"
     ]
    },
    {
     "name": "stdout",
     "output_type": "stream",
     "text": [
      "0:\tlearn: 0.6931260\ttest: 0.6931261\tbest: 0.6931261 (0)\ttotal: 110ms\tremaining: 21.9s\n",
      "199:\tlearn: 0.6890042\ttest: 0.6890071\tbest: 0.6890071 (199)\ttotal: 20.8s\tremaining: 0us\n",
      "\n",
      "bestTest = 0.6890071029\n",
      "bestIteration = 199\n",
      "\n"
     ]
    },
    {
     "name": "stderr",
     "output_type": "stream",
     "text": [
      "Warning: Overfitting detector is active, thus evaluation metric is calculated on every iteration. 'metric_period' is ignored for evaluation metric.\n"
     ]
    },
    {
     "name": "stdout",
     "output_type": "stream",
     "text": [
      "0:\tlearn: 0.6931259\ttest: 0.6931260\tbest: 0.6931260 (0)\ttotal: 109ms\tremaining: 21.7s\n",
      "199:\tlearn: 0.6889823\ttest: 0.6889857\tbest: 0.6889857 (199)\ttotal: 20.9s\tremaining: 0us\n",
      "\n",
      "bestTest = 0.688985712\n",
      "bestIteration = 199\n",
      "\n"
     ]
    },
    {
     "name": "stderr",
     "output_type": "stream",
     "text": [
      "Warning: Overfitting detector is active, thus evaluation metric is calculated on every iteration. 'metric_period' is ignored for evaluation metric.\n"
     ]
    },
    {
     "name": "stdout",
     "output_type": "stream",
     "text": [
      "0:\tlearn: 0.1654783\ttest: 0.1658278\tbest: 0.1658278 (0)\ttotal: 700ms\tremaining: 2m 19s\n",
      "199:\tlearn: 0.0503763\ttest: 0.0727961\tbest: 0.0727961 (199)\ttotal: 2m 19s\tremaining: 0us\n",
      "\n",
      "bestTest = 0.07279611\n",
      "bestIteration = 199\n",
      "\n"
     ]
    },
    {
     "name": "stderr",
     "output_type": "stream",
     "text": [
      "Warning: Overfitting detector is active, thus evaluation metric is calculated on every iteration. 'metric_period' is ignored for evaluation metric.\n"
     ]
    },
    {
     "name": "stdout",
     "output_type": "stream",
     "text": [
      "0:\tlearn: 0.1641665\ttest: 0.1648990\tbest: 0.1648990 (0)\ttotal: 699ms\tremaining: 2m 19s\n",
      "199:\tlearn: 0.0539359\ttest: 0.0738418\tbest: 0.0738418 (199)\ttotal: 2m 19s\tremaining: 0us\n",
      "\n",
      "bestTest = 0.07384182514\n",
      "bestIteration = 199\n",
      "\n"
     ]
    },
    {
     "name": "stderr",
     "output_type": "stream",
     "text": [
      "Warning: Overfitting detector is active, thus evaluation metric is calculated on every iteration. 'metric_period' is ignored for evaluation metric.\n"
     ]
    },
    {
     "name": "stdout",
     "output_type": "stream",
     "text": [
      "0:\tlearn: 0.2233581\ttest: 0.2236168\tbest: 0.2236168 (0)\ttotal: 45.9ms\tremaining: 9.13s\n",
      "199:\tlearn: 0.0610048\ttest: 0.0772361\tbest: 0.0772361 (199)\ttotal: 9.39s\tremaining: 0us\n",
      "\n",
      "bestTest = 0.07723613214\n",
      "bestIteration = 199\n",
      "\n"
     ]
    },
    {
     "name": "stderr",
     "output_type": "stream",
     "text": [
      "Warning: Overfitting detector is active, thus evaluation metric is calculated on every iteration. 'metric_period' is ignored for evaluation metric.\n"
     ]
    },
    {
     "name": "stdout",
     "output_type": "stream",
     "text": [
      "0:\tlearn: 0.2221416\ttest: 0.2226085\tbest: 0.2226085 (0)\ttotal: 46.2ms\tremaining: 9.19s\n",
      "199:\tlearn: 0.0614967\ttest: 0.0770187\tbest: 0.0770187 (199)\ttotal: 9.31s\tremaining: 0us\n",
      "\n",
      "bestTest = 0.07701867662\n",
      "bestIteration = 199\n",
      "\n"
     ]
    },
    {
     "name": "stderr",
     "output_type": "stream",
     "text": [
      "Warning: Overfitting detector is active, thus evaluation metric is calculated on every iteration. 'metric_period' is ignored for evaluation metric.\n"
     ]
    },
    {
     "name": "stdout",
     "output_type": "stream",
     "text": [
      "0:\tlearn: 0.1871651\ttest: 0.1874996\tbest: 0.1874996 (0)\ttotal: 110ms\tremaining: 21.9s\n",
      "199:\tlearn: 0.0421433\ttest: 0.0719762\tbest: 0.0719762 (199)\ttotal: 22.4s\tremaining: 0us\n",
      "\n",
      "bestTest = 0.0719761554\n",
      "bestIteration = 199\n",
      "\n"
     ]
    },
    {
     "name": "stderr",
     "output_type": "stream",
     "text": [
      "Warning: Overfitting detector is active, thus evaluation metric is calculated on every iteration. 'metric_period' is ignored for evaluation metric.\n"
     ]
    },
    {
     "name": "stdout",
     "output_type": "stream",
     "text": [
      "0:\tlearn: 0.1859760\ttest: 0.1867226\tbest: 0.1867226 (0)\ttotal: 108ms\tremaining: 21.6s\n",
      "199:\tlearn: 0.0432603\ttest: 0.0726948\tbest: 0.0726948 (199)\ttotal: 22.4s\tremaining: 0us\n",
      "\n",
      "bestTest = 0.07269482572\n",
      "bestIteration = 199\n",
      "\n"
     ]
    },
    {
     "name": "stderr",
     "output_type": "stream",
     "text": [
      "Warning: Overfitting detector is active, thus evaluation metric is calculated on every iteration. 'metric_period' is ignored for evaluation metric.\n"
     ]
    },
    {
     "name": "stdout",
     "output_type": "stream",
     "text": [
      "0:\tlearn: 0.1793200\ttest: 0.1797683\tbest: 0.1797683 (0)\ttotal: 2.5s\tremaining: 8m 17s\n",
      "199:\tlearn: 0.0140076\ttest: 0.0692044\tbest: 0.0689025 (174)\ttotal: 8m 12s\tremaining: 0us\n",
      "\n",
      "bestTest = 0.06890248954\n",
      "bestIteration = 174\n",
      "\n",
      "Shrink model to first 175 iterations.\n"
     ]
    },
    {
     "name": "stderr",
     "output_type": "stream",
     "text": [
      "Warning: Overfitting detector is active, thus evaluation metric is calculated on every iteration. 'metric_period' is ignored for evaluation metric.\n"
     ]
    },
    {
     "name": "stdout",
     "output_type": "stream",
     "text": [
      "0:\tlearn: 0.1810170\ttest: 0.1818230\tbest: 0.1818230 (0)\ttotal: 2.58s\tremaining: 8m 32s\n",
      "199:\tlearn: 0.0174887\ttest: 0.0699005\tbest: 0.0696513 (177)\ttotal: 8m 18s\tremaining: 0us\n",
      "\n",
      "bestTest = 0.0696513259\n",
      "bestIteration = 177\n",
      "\n",
      "Shrink model to first 178 iterations.\n"
     ]
    },
    {
     "name": "stderr",
     "output_type": "stream",
     "text": [
      "Warning: Overfitting detector is active, thus evaluation metric is calculated on every iteration. 'metric_period' is ignored for evaluation metric.\n"
     ]
    },
    {
     "name": "stdout",
     "output_type": "stream",
     "text": [
      "0:\tlearn: 0.1488758\ttest: 0.1491521\tbest: 0.1491521 (0)\ttotal: 42.8ms\tremaining: 8.51s\n",
      "199:\tlearn: 0.0588474\ttest: 0.0786024\tbest: 0.0786024 (199)\ttotal: 9.35s\tremaining: 0us\n",
      "\n",
      "bestTest = 0.07860235327\n",
      "bestIteration = 199\n",
      "\n"
     ]
    },
    {
     "name": "stderr",
     "output_type": "stream",
     "text": [
      "Warning: Overfitting detector is active, thus evaluation metric is calculated on every iteration. 'metric_period' is ignored for evaluation metric.\n"
     ]
    },
    {
     "name": "stdout",
     "output_type": "stream",
     "text": [
      "0:\tlearn: 0.1478748\ttest: 0.1486524\tbest: 0.1486524 (0)\ttotal: 42.8ms\tremaining: 8.52s\n",
      "199:\tlearn: 0.0584743\ttest: 0.0777829\tbest: 0.0777440 (196)\ttotal: 9.2s\tremaining: 0us\n",
      "\n",
      "bestTest = 0.07774395635\n",
      "bestIteration = 196\n",
      "\n",
      "Shrink model to first 197 iterations.\n"
     ]
    },
    {
     "name": "stderr",
     "output_type": "stream",
     "text": [
      "Warning: Overfitting detector is active, thus evaluation metric is calculated on every iteration. 'metric_period' is ignored for evaluation metric.\n"
     ]
    },
    {
     "name": "stdout",
     "output_type": "stream",
     "text": [
      "0:\tlearn: 0.4337471\ttest: 0.4339877\tbest: 0.4339877 (0)\ttotal: 425ms\tremaining: 1m 24s\n",
      "199:\tlearn: 0.0388019\ttest: 0.0686006\tbest: 0.0686006 (199)\ttotal: 1m 25s\tremaining: 0us\n",
      "\n",
      "bestTest = 0.06860062066\n",
      "bestIteration = 199\n",
      "\n"
     ]
    },
    {
     "name": "stderr",
     "output_type": "stream",
     "text": [
      "Warning: Overfitting detector is active, thus evaluation metric is calculated on every iteration. 'metric_period' is ignored for evaluation metric.\n"
     ]
    },
    {
     "name": "stdout",
     "output_type": "stream",
     "text": [
      "0:\tlearn: 0.4328535\ttest: 0.4332182\tbest: 0.4332182 (0)\ttotal: 424ms\tremaining: 1m 24s\n",
      "199:\tlearn: 0.0411402\ttest: 0.0693453\tbest: 0.0693453 (199)\ttotal: 1m 25s\tremaining: 0us\n",
      "\n",
      "bestTest = 0.06934527728\n",
      "bestIteration = 199\n",
      "\n"
     ]
    },
    {
     "name": "stderr",
     "output_type": "stream",
     "text": [
      "Warning: Overfitting detector is active, thus evaluation metric is calculated on every iteration. 'metric_period' is ignored for evaluation metric.\n"
     ]
    },
    {
     "name": "stdout",
     "output_type": "stream",
     "text": [
      "0:\tlearn: 0.1719746\ttest: 0.1726591\tbest: 0.1726591 (0)\ttotal: 698ms\tremaining: 2m 18s\n",
      "199:\tlearn: 0.0096104\ttest: 0.0816150\tbest: 0.0770208 (91)\ttotal: 2m 20s\tremaining: 0us\n",
      "\n",
      "bestTest = 0.07702082961\n",
      "bestIteration = 91\n",
      "\n",
      "Shrink model to first 92 iterations.\n"
     ]
    },
    {
     "name": "stderr",
     "output_type": "stream",
     "text": [
      "Warning: Overfitting detector is active, thus evaluation metric is calculated on every iteration. 'metric_period' is ignored for evaluation metric.\n"
     ]
    },
    {
     "name": "stdout",
     "output_type": "stream",
     "text": [
      "0:\tlearn: 0.1722226\ttest: 0.1734552\tbest: 0.1734552 (0)\ttotal: 696ms\tremaining: 2m 18s\n",
      "199:\tlearn: 0.0095227\ttest: 0.0814562\tbest: 0.0768382 (78)\ttotal: 2m 21s\tremaining: 0us\n",
      "\n",
      "bestTest = 0.07683818156\n",
      "bestIteration = 78\n",
      "\n",
      "Shrink model to first 79 iterations.\n"
     ]
    },
    {
     "name": "stderr",
     "output_type": "stream",
     "text": [
      "Warning: Overfitting detector is active, thus evaluation metric is calculated on every iteration. 'metric_period' is ignored for evaluation metric.\n"
     ]
    },
    {
     "name": "stdout",
     "output_type": "stream",
     "text": [
      "0:\tlearn: 0.1334633\ttest: 0.1338029\tbest: 0.1338029 (0)\ttotal: 55.1ms\tremaining: 11s\n",
      "199:\tlearn: 0.0525424\ttest: 0.0768041\tbest: 0.0768041 (199)\ttotal: 11.3s\tremaining: 0us\n",
      "\n",
      "bestTest = 0.07680409854\n",
      "bestIteration = 199\n",
      "\n"
     ]
    },
    {
     "name": "stderr",
     "output_type": "stream",
     "text": [
      "Warning: Overfitting detector is active, thus evaluation metric is calculated on every iteration. 'metric_period' is ignored for evaluation metric.\n"
     ]
    },
    {
     "name": "stdout",
     "output_type": "stream",
     "text": [
      "0:\tlearn: 0.1324851\ttest: 0.1334653\tbest: 0.1334653 (0)\ttotal: 56.8ms\tremaining: 11.3s\n",
      "199:\tlearn: 0.0528575\ttest: 0.0781396\tbest: 0.0781357 (196)\ttotal: 11.2s\tremaining: 0us\n",
      "\n",
      "bestTest = 0.07813565154\n",
      "bestIteration = 196\n",
      "\n",
      "Shrink model to first 197 iterations.\n"
     ]
    },
    {
     "name": "stderr",
     "output_type": "stream",
     "text": [
      "Warning: Overfitting detector is active, thus evaluation metric is calculated on every iteration. 'metric_period' is ignored for evaluation metric.\n"
     ]
    },
    {
     "name": "stdout",
     "output_type": "stream",
     "text": [
      "0:\tlearn: 0.4035852\ttest: 0.4042107\tbest: 0.4042107 (0)\ttotal: 1.54s\tremaining: 5m 6s\n",
      "199:\tlearn: 0.0351829\ttest: 0.0572389\tbest: 0.0572389 (199)\ttotal: 5m 5s\tremaining: 0us\n",
      "\n",
      "bestTest = 0.05723890246\n",
      "bestIteration = 199\n",
      "\n",
      "Confusion Matrix: \n",
      "[[113879     93]\n",
      " [  1822   2314]]\n",
      "\n",
      "Accuracy: 0.9838\n",
      "\n",
      "AUC: 0.9563\n",
      "\n",
      "F1 Score: 0.7073\n",
      "\n",
      "Classification Report: \n",
      "               precision    recall  f1-score   support\n",
      "\n",
      "           0       0.98      1.00      0.99    113972\n",
      "           1       0.96      0.56      0.71      4136\n",
      "\n",
      "    accuracy                           0.98    118108\n",
      "   macro avg       0.97      0.78      0.85    118108\n",
      "weighted avg       0.98      0.98      0.98    118108\n",
      "\n"
     ]
    }
   ],
   "source": [
    "# roc auc score\n",
    "best_estimator = perform_random_search(clf, X_train, X_val, y_train, y_val, param_grid, scoring='roc_auc')\n",
    "_ = calculate_scores(best_estimator, X_val, y_val)"
   ]
  },
  {
   "cell_type": "code",
   "execution_count": 13,
   "metadata": {
    "scrolled": true
   },
   "outputs": [
    {
     "name": "stderr",
     "output_type": "stream",
     "text": [
      "Warning: Overfitting detector is active, thus evaluation metric is calculated on every iteration. 'metric_period' is ignored for evaluation metric.\n"
     ]
    },
    {
     "name": "stdout",
     "output_type": "stream",
     "text": [
      "0:\tlearn: 0.5623241\ttest: 0.5624611\tbest: 0.5624611 (0)\ttotal: 138ms\tremaining: 27.5s\n",
      "199:\tlearn: 0.0765317\ttest: 0.0838029\tbest: 0.0838029 (199)\ttotal: 15.8s\tremaining: 0us\n",
      "\n",
      "bestTest = 0.08380294246\n",
      "bestIteration = 199\n",
      "\n"
     ]
    },
    {
     "name": "stderr",
     "output_type": "stream",
     "text": [
      "Warning: Overfitting detector is active, thus evaluation metric is calculated on every iteration. 'metric_period' is ignored for evaluation metric.\n"
     ]
    },
    {
     "name": "stdout",
     "output_type": "stream",
     "text": [
      "0:\tlearn: 0.5617113\ttest: 0.5618594\tbest: 0.5618594 (0)\ttotal: 78.2ms\tremaining: 15.6s\n",
      "199:\tlearn: 0.0773101\ttest: 0.0843051\tbest: 0.0843051 (199)\ttotal: 15.8s\tremaining: 0us\n",
      "\n",
      "bestTest = 0.08430514911\n",
      "bestIteration = 199\n",
      "\n"
     ]
    },
    {
     "name": "stderr",
     "output_type": "stream",
     "text": [
      "Warning: Overfitting detector is active, thus evaluation metric is calculated on every iteration. 'metric_period' is ignored for evaluation metric.\n"
     ]
    },
    {
     "name": "stdout",
     "output_type": "stream",
     "text": [
      "0:\tlearn: 0.5889800\ttest: 0.5890728\tbest: 0.5890728 (0)\ttotal: 73.7ms\tremaining: 14.7s\n",
      "199:\tlearn: 0.0880873\ttest: 0.0915331\tbest: 0.0915331 (199)\ttotal: 15.5s\tremaining: 0us\n",
      "\n",
      "bestTest = 0.09153312308\n",
      "bestIteration = 199\n",
      "\n"
     ]
    },
    {
     "name": "stderr",
     "output_type": "stream",
     "text": [
      "Warning: Overfitting detector is active, thus evaluation metric is calculated on every iteration. 'metric_period' is ignored for evaluation metric.\n"
     ]
    },
    {
     "name": "stdout",
     "output_type": "stream",
     "text": [
      "0:\tlearn: 0.5883829\ttest: 0.5884874\tbest: 0.5884874 (0)\ttotal: 77.7ms\tremaining: 15.5s\n",
      "199:\tlearn: 0.0881391\ttest: 0.0915712\tbest: 0.0915712 (199)\ttotal: 15.7s\tremaining: 0us\n",
      "\n",
      "bestTest = 0.09157118676\n",
      "bestIteration = 199\n",
      "\n"
     ]
    },
    {
     "name": "stderr",
     "output_type": "stream",
     "text": [
      "Warning: Overfitting detector is active, thus evaluation metric is calculated on every iteration. 'metric_period' is ignored for evaluation metric.\n"
     ]
    },
    {
     "name": "stdout",
     "output_type": "stream",
     "text": [
      "0:\tlearn: 0.4188817\ttest: 0.4191061\tbest: 0.4191061 (0)\ttotal: 117ms\tremaining: 23.3s\n",
      "199:\tlearn: 0.0603543\ttest: 0.0751775\tbest: 0.0751775 (199)\ttotal: 23.2s\tremaining: 0us\n",
      "\n",
      "bestTest = 0.07517748952\n",
      "bestIteration = 199\n",
      "\n"
     ]
    },
    {
     "name": "stderr",
     "output_type": "stream",
     "text": [
      "Warning: Overfitting detector is active, thus evaluation metric is calculated on every iteration. 'metric_period' is ignored for evaluation metric.\n"
     ]
    },
    {
     "name": "stdout",
     "output_type": "stream",
     "text": [
      "0:\tlearn: 0.4178788\ttest: 0.4182446\tbest: 0.4182446 (0)\ttotal: 113ms\tremaining: 22.4s\n",
      "199:\tlearn: 0.0611765\ttest: 0.0756423\tbest: 0.0756423 (199)\ttotal: 23.6s\tremaining: 0us\n",
      "\n",
      "bestTest = 0.07564226436\n",
      "bestIteration = 199\n",
      "\n"
     ]
    },
    {
     "name": "stderr",
     "output_type": "stream",
     "text": [
      "Warning: Overfitting detector is active, thus evaluation metric is calculated on every iteration. 'metric_period' is ignored for evaluation metric.\n"
     ]
    },
    {
     "name": "stdout",
     "output_type": "stream",
     "text": [
      "0:\tlearn: 0.6569560\ttest: 0.6570063\tbest: 0.6570063 (0)\ttotal: 716ms\tremaining: 2m 22s\n",
      "199:\tlearn: 0.0833299\ttest: 0.0898725\tbest: 0.0898725 (199)\ttotal: 2m 23s\tremaining: 0us\n",
      "\n",
      "bestTest = 0.08987254691\n",
      "bestIteration = 199\n",
      "\n"
     ]
    },
    {
     "name": "stderr",
     "output_type": "stream",
     "text": [
      "Warning: Overfitting detector is active, thus evaluation metric is calculated on every iteration. 'metric_period' is ignored for evaluation metric.\n"
     ]
    },
    {
     "name": "stdout",
     "output_type": "stream",
     "text": [
      "0:\tlearn: 0.6574277\ttest: 0.6574713\tbest: 0.6574713 (0)\ttotal: 721ms\tremaining: 2m 23s\n",
      "199:\tlearn: 0.0835221\ttest: 0.0903550\tbest: 0.0903550 (199)\ttotal: 2m 23s\tremaining: 0us\n",
      "\n",
      "bestTest = 0.09035503433\n",
      "bestIteration = 199\n",
      "\n"
     ]
    },
    {
     "name": "stderr",
     "output_type": "stream",
     "text": [
      "Warning: Overfitting detector is active, thus evaluation metric is calculated on every iteration. 'metric_period' is ignored for evaluation metric.\n"
     ]
    },
    {
     "name": "stdout",
     "output_type": "stream",
     "text": [
      "0:\tlearn: 0.3843116\ttest: 0.3846107\tbest: 0.3846107 (0)\ttotal: 84.3ms\tremaining: 16.8s\n",
      "199:\tlearn: 0.0605989\ttest: 0.0749225\tbest: 0.0749224 (198)\ttotal: 16s\tremaining: 0us\n",
      "\n",
      "bestTest = 0.07492238426\n",
      "bestIteration = 198\n",
      "\n",
      "Shrink model to first 199 iterations.\n"
     ]
    },
    {
     "name": "stderr",
     "output_type": "stream",
     "text": [
      "Warning: Overfitting detector is active, thus evaluation metric is calculated on every iteration. 'metric_period' is ignored for evaluation metric.\n"
     ]
    },
    {
     "name": "stdout",
     "output_type": "stream",
     "text": [
      "0:\tlearn: 0.3831132\ttest: 0.3834758\tbest: 0.3834758 (0)\ttotal: 72ms\tremaining: 14.3s\n",
      "199:\tlearn: 0.0619302\ttest: 0.0760942\tbest: 0.0760942 (199)\ttotal: 15s\tremaining: 0us\n",
      "\n",
      "bestTest = 0.07609424856\n",
      "bestIteration = 199\n",
      "\n"
     ]
    },
    {
     "name": "stderr",
     "output_type": "stream",
     "text": [
      "Warning: Overfitting detector is active, thus evaluation metric is calculated on every iteration. 'metric_period' is ignored for evaluation metric.\n"
     ]
    },
    {
     "name": "stdout",
     "output_type": "stream",
     "text": [
      "0:\tlearn: 0.5509844\ttest: 0.5511724\tbest: 0.5511724 (0)\ttotal: 680ms\tremaining: 2m 15s\n",
      "199:\tlearn: 0.0603629\ttest: 0.0757966\tbest: 0.0757966 (199)\ttotal: 2m 17s\tremaining: 0us\n",
      "\n",
      "bestTest = 0.07579662837\n",
      "bestIteration = 199\n",
      "\n"
     ]
    },
    {
     "name": "stderr",
     "output_type": "stream",
     "text": [
      "Warning: Overfitting detector is active, thus evaluation metric is calculated on every iteration. 'metric_period' is ignored for evaluation metric.\n"
     ]
    },
    {
     "name": "stdout",
     "output_type": "stream",
     "text": [
      "0:\tlearn: 0.5523485\ttest: 0.5525166\tbest: 0.5525166 (0)\ttotal: 677ms\tremaining: 2m 14s\n",
      "199:\tlearn: 0.0627905\ttest: 0.0770459\tbest: 0.0770459 (199)\ttotal: 2m 20s\tremaining: 0us\n",
      "\n",
      "bestTest = 0.0770459027\n",
      "bestIteration = 199\n",
      "\n"
     ]
    },
    {
     "name": "stderr",
     "output_type": "stream",
     "text": [
      "Warning: Overfitting detector is active, thus evaluation metric is calculated on every iteration. 'metric_period' is ignored for evaluation metric.\n"
     ]
    },
    {
     "name": "stdout",
     "output_type": "stream",
     "text": [
      "0:\tlearn: 0.5883906\ttest: 0.5884680\tbest: 0.5884680 (0)\ttotal: 2.53s\tremaining: 8m 23s\n",
      "199:\tlearn: 0.0789096\ttest: 0.0859389\tbest: 0.0859389 (199)\ttotal: 8m 31s\tremaining: 0us\n",
      "\n",
      "bestTest = 0.08593885873\n",
      "bestIteration = 199\n",
      "\n"
     ]
    },
    {
     "name": "stderr",
     "output_type": "stream",
     "text": [
      "Warning: Overfitting detector is active, thus evaluation metric is calculated on every iteration. 'metric_period' is ignored for evaluation metric.\n"
     ]
    },
    {
     "name": "stdout",
     "output_type": "stream",
     "text": [
      "0:\tlearn: 0.5877819\ttest: 0.5878818\tbest: 0.5878818 (0)\ttotal: 2.59s\tremaining: 8m 35s\n",
      "199:\tlearn: 0.0808789\ttest: 0.0871481\tbest: 0.0871481 (199)\ttotal: 8m 27s\tremaining: 0us\n",
      "\n",
      "bestTest = 0.08714813129\n",
      "bestIteration = 199\n",
      "\n"
     ]
    },
    {
     "name": "stderr",
     "output_type": "stream",
     "text": [
      "Warning: Overfitting detector is active, thus evaluation metric is calculated on every iteration. 'metric_period' is ignored for evaluation metric.\n"
     ]
    },
    {
     "name": "stdout",
     "output_type": "stream",
     "text": [
      "0:\tlearn: 0.3295554\ttest: 0.3298775\tbest: 0.3298775 (0)\ttotal: 276ms\tremaining: 55s\n",
      "199:\tlearn: 0.0518828\ttest: 0.0719699\tbest: 0.0719699 (199)\ttotal: 56s\tremaining: 0us\n",
      "\n",
      "bestTest = 0.07196987236\n",
      "bestIteration = 199\n",
      "\n"
     ]
    },
    {
     "name": "stderr",
     "output_type": "stream",
     "text": [
      "Warning: Overfitting detector is active, thus evaluation metric is calculated on every iteration. 'metric_period' is ignored for evaluation metric.\n"
     ]
    },
    {
     "name": "stdout",
     "output_type": "stream",
     "text": [
      "0:\tlearn: 0.3277201\ttest: 0.3282055\tbest: 0.3282055 (0)\ttotal: 274ms\tremaining: 54.5s\n",
      "199:\tlearn: 0.0529103\ttest: 0.0725880\tbest: 0.0725880 (199)\ttotal: 56s\tremaining: 0us\n",
      "\n",
      "bestTest = 0.07258797812\n",
      "bestIteration = 199\n",
      "\n"
     ]
    },
    {
     "name": "stderr",
     "output_type": "stream",
     "text": [
      "Warning: Overfitting detector is active, thus evaluation metric is calculated on every iteration. 'metric_period' is ignored for evaluation metric.\n"
     ]
    },
    {
     "name": "stdout",
     "output_type": "stream",
     "text": [
      "0:\tlearn: 0.5358414\ttest: 0.5360593\tbest: 0.5360593 (0)\ttotal: 2.34s\tremaining: 7m 46s\n",
      "199:\tlearn: 0.0288409\ttest: 0.0668890\tbest: 0.0668890 (199)\ttotal: 8m 8s\tremaining: 0us\n",
      "\n",
      "bestTest = 0.06688898897\n",
      "bestIteration = 199\n",
      "\n"
     ]
    },
    {
     "name": "stderr",
     "output_type": "stream",
     "text": [
      "Warning: Overfitting detector is active, thus evaluation metric is calculated on every iteration. 'metric_period' is ignored for evaluation metric.\n"
     ]
    },
    {
     "name": "stdout",
     "output_type": "stream",
     "text": [
      "0:\tlearn: 0.5363543\ttest: 0.5366399\tbest: 0.5366399 (0)\ttotal: 2.48s\tremaining: 8m 13s\n",
      "199:\tlearn: 0.0303529\ttest: 0.0685005\tbest: 0.0685005 (199)\ttotal: 8m 9s\tremaining: 0us\n",
      "\n",
      "bestTest = 0.06850051971\n",
      "bestIteration = 199\n",
      "\n"
     ]
    },
    {
     "name": "stderr",
     "output_type": "stream",
     "text": [
      "Warning: Overfitting detector is active, thus evaluation metric is calculated on every iteration. 'metric_period' is ignored for evaluation metric.\n"
     ]
    },
    {
     "name": "stdout",
     "output_type": "stream",
     "text": [
      "0:\tlearn: 0.5775518\ttest: 0.5777056\tbest: 0.5777056 (0)\ttotal: 1.34s\tremaining: 4m 25s\n",
      "199:\tlearn: 0.0554428\ttest: 0.0741389\tbest: 0.0741389 (199)\ttotal: 4m 4s\tremaining: 0us\n",
      "\n",
      "bestTest = 0.0741389089\n",
      "bestIteration = 199\n",
      "\n"
     ]
    },
    {
     "name": "stderr",
     "output_type": "stream",
     "text": [
      "Warning: Overfitting detector is active, thus evaluation metric is calculated on every iteration. 'metric_period' is ignored for evaluation metric.\n"
     ]
    },
    {
     "name": "stdout",
     "output_type": "stream",
     "text": [
      "0:\tlearn: 0.5789418\ttest: 0.5790835\tbest: 0.5790835 (0)\ttotal: 1.23s\tremaining: 4m 4s\n",
      "199:\tlearn: 0.0565390\ttest: 0.0751896\tbest: 0.0751896 (199)\ttotal: 4m 4s\tremaining: 0us\n",
      "\n",
      "bestTest = 0.07518961278\n",
      "bestIteration = 199\n",
      "\n"
     ]
    },
    {
     "name": "stderr",
     "output_type": "stream",
     "text": [
      "Warning: Overfitting detector is active, thus evaluation metric is calculated on every iteration. 'metric_period' is ignored for evaluation metric.\n"
     ]
    },
    {
     "name": "stdout",
     "output_type": "stream",
     "text": [
      "0:\tlearn: 0.4751992\ttest: 0.4754118\tbest: 0.4754118 (0)\ttotal: 114ms\tremaining: 22.7s\n",
      "199:\tlearn: 0.0670356\ttest: 0.0781943\tbest: 0.0781943 (199)\ttotal: 22.7s\tremaining: 0us\n",
      "\n",
      "bestTest = 0.07819432746\n",
      "bestIteration = 199\n",
      "\n"
     ]
    },
    {
     "name": "stderr",
     "output_type": "stream",
     "text": [
      "Warning: Overfitting detector is active, thus evaluation metric is calculated on every iteration. 'metric_period' is ignored for evaluation metric.\n"
     ]
    },
    {
     "name": "stdout",
     "output_type": "stream",
     "text": [
      "0:\tlearn: 0.4738979\ttest: 0.4741794\tbest: 0.4741794 (0)\ttotal: 110ms\tremaining: 21.8s\n",
      "199:\tlearn: 0.0680424\ttest: 0.0784302\tbest: 0.0784302 (199)\ttotal: 22.7s\tremaining: 0us\n",
      "\n",
      "bestTest = 0.07843019702\n",
      "bestIteration = 199\n",
      "\n"
     ]
    },
    {
     "name": "stderr",
     "output_type": "stream",
     "text": [
      "Warning: Overfitting detector is active, thus evaluation metric is calculated on every iteration. 'metric_period' is ignored for evaluation metric.\n"
     ]
    },
    {
     "name": "stdout",
     "output_type": "stream",
     "text": [
      "0:\tlearn: 0.6757433\ttest: 0.6757592\tbest: 0.6757592 (0)\ttotal: 107ms\tremaining: 21.2s\n",
      "199:\tlearn: 0.1059521\ttest: 0.1077099\tbest: 0.1077099 (199)\ttotal: 22s\tremaining: 0us\n",
      "\n",
      "bestTest = 0.1077098714\n",
      "bestIteration = 199\n",
      "\n"
     ]
    },
    {
     "name": "stderr",
     "output_type": "stream",
     "text": [
      "Warning: Overfitting detector is active, thus evaluation metric is calculated on every iteration. 'metric_period' is ignored for evaluation metric.\n"
     ]
    },
    {
     "name": "stdout",
     "output_type": "stream",
     "text": [
      "0:\tlearn: 0.6756680\ttest: 0.6756916\tbest: 0.6756916 (0)\ttotal: 108ms\tremaining: 21.5s\n",
      "199:\tlearn: 0.1054847\ttest: 0.1075802\tbest: 0.1075802 (199)\ttotal: 22.3s\tremaining: 0us\n",
      "\n",
      "bestTest = 0.1075801714\n",
      "bestIteration = 199\n",
      "\n"
     ]
    },
    {
     "name": "stderr",
     "output_type": "stream",
     "text": [
      "Warning: Overfitting detector is active, thus evaluation metric is calculated on every iteration. 'metric_period' is ignored for evaluation metric.\n"
     ]
    },
    {
     "name": "stdout",
     "output_type": "stream",
     "text": [
      "0:\tlearn: 0.4171127\ttest: 0.4173275\tbest: 0.4173275 (0)\ttotal: 694ms\tremaining: 2m 18s\n",
      "199:\tlearn: 0.0697225\ttest: 0.0800458\tbest: 0.0800458 (199)\ttotal: 2m 16s\tremaining: 0us\n",
      "\n",
      "bestTest = 0.08004581843\n",
      "bestIteration = 199\n",
      "\n"
     ]
    },
    {
     "name": "stderr",
     "output_type": "stream",
     "text": [
      "Warning: Overfitting detector is active, thus evaluation metric is calculated on every iteration. 'metric_period' is ignored for evaluation metric.\n"
     ]
    },
    {
     "name": "stdout",
     "output_type": "stream",
     "text": [
      "0:\tlearn: 0.4157858\ttest: 0.4160751\tbest: 0.4160751 (0)\ttotal: 687ms\tremaining: 2m 16s\n",
      "199:\tlearn: 0.0730362\ttest: 0.0817645\tbest: 0.0817645 (199)\ttotal: 2m 17s\tremaining: 0us\n",
      "\n",
      "bestTest = 0.08176450185\n",
      "bestIteration = 199\n",
      "\n"
     ]
    },
    {
     "name": "stderr",
     "output_type": "stream",
     "text": [
      "Warning: Overfitting detector is active, thus evaluation metric is calculated on every iteration. 'metric_period' is ignored for evaluation metric.\n"
     ]
    },
    {
     "name": "stdout",
     "output_type": "stream",
     "text": [
      "0:\tlearn: 0.4760721\ttest: 0.4762030\tbest: 0.4762030 (0)\ttotal: 43.2ms\tremaining: 8.59s\n",
      "199:\tlearn: 0.0764559\ttest: 0.0835168\tbest: 0.0835168 (199)\ttotal: 9.28s\tremaining: 0us\n",
      "\n",
      "bestTest = 0.08351681884\n",
      "bestIteration = 199\n",
      "\n"
     ]
    },
    {
     "name": "stderr",
     "output_type": "stream",
     "text": [
      "Warning: Overfitting detector is active, thus evaluation metric is calculated on every iteration. 'metric_period' is ignored for evaluation metric.\n"
     ]
    },
    {
     "name": "stdout",
     "output_type": "stream",
     "text": [
      "0:\tlearn: 0.4751922\ttest: 0.4753251\tbest: 0.4753251 (0)\ttotal: 43ms\tremaining: 8.55s\n",
      "199:\tlearn: 0.0767347\ttest: 0.0835357\tbest: 0.0835357 (199)\ttotal: 9.4s\tremaining: 0us\n",
      "\n",
      "bestTest = 0.08353565509\n",
      "bestIteration = 199\n",
      "\n"
     ]
    },
    {
     "name": "stderr",
     "output_type": "stream",
     "text": [
      "Warning: Overfitting detector is active, thus evaluation metric is calculated on every iteration. 'metric_period' is ignored for evaluation metric.\n"
     ]
    },
    {
     "name": "stdout",
     "output_type": "stream",
     "text": [
      "0:\tlearn: 0.4432689\ttest: 0.4434760\tbest: 0.4434760 (0)\ttotal: 110ms\tremaining: 21.9s\n",
      "199:\tlearn: 0.0621633\ttest: 0.0760683\tbest: 0.0760683 (199)\ttotal: 22.5s\tremaining: 0us\n",
      "\n",
      "bestTest = 0.07606830965\n",
      "bestIteration = 199\n",
      "\n"
     ]
    },
    {
     "name": "stderr",
     "output_type": "stream",
     "text": [
      "Warning: Overfitting detector is active, thus evaluation metric is calculated on every iteration. 'metric_period' is ignored for evaluation metric.\n"
     ]
    },
    {
     "name": "stdout",
     "output_type": "stream",
     "text": [
      "0:\tlearn: 0.4423337\ttest: 0.4426665\tbest: 0.4426665 (0)\ttotal: 109ms\tremaining: 21.6s\n",
      "199:\tlearn: 0.0627701\ttest: 0.0760561\tbest: 0.0760561 (199)\ttotal: 22.4s\tremaining: 0us\n",
      "\n",
      "bestTest = 0.07605608168\n",
      "bestIteration = 199\n",
      "\n"
     ]
    },
    {
     "name": "stderr",
     "output_type": "stream",
     "text": [
      "Warning: Overfitting detector is active, thus evaluation metric is calculated on every iteration. 'metric_period' is ignored for evaluation metric.\n"
     ]
    },
    {
     "name": "stdout",
     "output_type": "stream",
     "text": [
      "0:\tlearn: 0.4350200\ttest: 0.4353194\tbest: 0.4353194 (0)\ttotal: 2.41s\tremaining: 7m 58s\n",
      "199:\tlearn: 0.0346971\ttest: 0.0661981\tbest: 0.0661981 (199)\ttotal: 8m 7s\tremaining: 0us\n",
      "\n",
      "bestTest = 0.06619813868\n",
      "bestIteration = 199\n",
      "\n"
     ]
    },
    {
     "name": "stderr",
     "output_type": "stream",
     "text": [
      "Warning: Overfitting detector is active, thus evaluation metric is calculated on every iteration. 'metric_period' is ignored for evaluation metric.\n"
     ]
    },
    {
     "name": "stdout",
     "output_type": "stream",
     "text": [
      "0:\tlearn: 0.4370894\ttest: 0.4374063\tbest: 0.4374063 (0)\ttotal: 2.42s\tremaining: 8m 2s\n",
      "199:\tlearn: 0.0384208\ttest: 0.0675449\tbest: 0.0675449 (199)\ttotal: 8m 10s\tremaining: 0us\n",
      "\n",
      "bestTest = 0.06754493274\n",
      "bestIteration = 199\n",
      "\n"
     ]
    },
    {
     "name": "stderr",
     "output_type": "stream",
     "text": [
      "Warning: Overfitting detector is active, thus evaluation metric is calculated on every iteration. 'metric_period' is ignored for evaluation metric.\n"
     ]
    },
    {
     "name": "stdout",
     "output_type": "stream",
     "text": [
      "0:\tlearn: 0.3904160\ttest: 0.3905907\tbest: 0.3905907 (0)\ttotal: 42.9ms\tremaining: 8.54s\n",
      "199:\tlearn: 0.0734311\ttest: 0.0820095\tbest: 0.0820095 (199)\ttotal: 9.21s\tremaining: 0us\n",
      "\n",
      "bestTest = 0.0820095451\n",
      "bestIteration = 199\n",
      "\n"
     ]
    },
    {
     "name": "stderr",
     "output_type": "stream",
     "text": [
      "Warning: Overfitting detector is active, thus evaluation metric is calculated on every iteration. 'metric_period' is ignored for evaluation metric.\n"
     ]
    },
    {
     "name": "stdout",
     "output_type": "stream",
     "text": [
      "0:\tlearn: 0.3893034\ttest: 0.3895068\tbest: 0.3895068 (0)\ttotal: 42.8ms\tremaining: 8.52s\n",
      "199:\tlearn: 0.0734071\ttest: 0.0815739\tbest: 0.0815739 (199)\ttotal: 9.21s\tremaining: 0us\n",
      "\n",
      "bestTest = 0.08157385899\n",
      "bestIteration = 199\n",
      "\n"
     ]
    },
    {
     "name": "stderr",
     "output_type": "stream",
     "text": [
      "Warning: Overfitting detector is active, thus evaluation metric is calculated on every iteration. 'metric_period' is ignored for evaluation metric.\n"
     ]
    },
    {
     "name": "stdout",
     "output_type": "stream",
     "text": [
      "0:\tlearn: 0.5880010\ttest: 0.5881006\tbest: 0.5881006 (0)\ttotal: 426ms\tremaining: 1m 24s\n",
      "199:\tlearn: 0.0619489\ttest: 0.0773702\tbest: 0.0773702 (199)\ttotal: 1m 24s\tremaining: 0us\n",
      "\n",
      "bestTest = 0.07737021545\n",
      "bestIteration = 199\n",
      "\n"
     ]
    },
    {
     "name": "stderr",
     "output_type": "stream",
     "text": [
      "Warning: Overfitting detector is active, thus evaluation metric is calculated on every iteration. 'metric_period' is ignored for evaluation metric.\n"
     ]
    },
    {
     "name": "stdout",
     "output_type": "stream",
     "text": [
      "0:\tlearn: 0.5876059\ttest: 0.5877484\tbest: 0.5877484 (0)\ttotal: 418ms\tremaining: 1m 23s\n",
      "199:\tlearn: 0.0627144\ttest: 0.0777102\tbest: 0.0777102 (199)\ttotal: 1m 24s\tremaining: 0us\n",
      "\n",
      "bestTest = 0.07771021251\n",
      "bestIteration = 199\n",
      "\n"
     ]
    },
    {
     "name": "stderr",
     "output_type": "stream",
     "text": [
      "Warning: Overfitting detector is active, thus evaluation metric is calculated on every iteration. 'metric_period' is ignored for evaluation metric.\n"
     ]
    },
    {
     "name": "stdout",
     "output_type": "stream",
     "text": [
      "0:\tlearn: 0.4266684\ttest: 0.4270493\tbest: 0.4270493 (0)\ttotal: 688ms\tremaining: 2m 16s\n",
      "199:\tlearn: 0.0322814\ttest: 0.0669069\tbest: 0.0669069 (199)\ttotal: 2m 17s\tremaining: 0us\n",
      "\n",
      "bestTest = 0.06690693757\n",
      "bestIteration = 199\n",
      "\n"
     ]
    },
    {
     "name": "stderr",
     "output_type": "stream",
     "text": [
      "Warning: Overfitting detector is active, thus evaluation metric is calculated on every iteration. 'metric_period' is ignored for evaluation metric.\n"
     ]
    },
    {
     "name": "stdout",
     "output_type": "stream",
     "text": [
      "0:\tlearn: 0.4272732\ttest: 0.4277570\tbest: 0.4277570 (0)\ttotal: 687ms\tremaining: 2m 16s\n",
      "199:\tlearn: 0.0305460\ttest: 0.0674009\tbest: 0.0674009 (199)\ttotal: 2m 19s\tremaining: 0us\n",
      "\n",
      "bestTest = 0.06740089778\n",
      "bestIteration = 199\n",
      "\n"
     ]
    },
    {
     "name": "stderr",
     "output_type": "stream",
     "text": [
      "Warning: Overfitting detector is active, thus evaluation metric is calculated on every iteration. 'metric_period' is ignored for evaluation metric.\n"
     ]
    },
    {
     "name": "stdout",
     "output_type": "stream",
     "text": [
      "0:\tlearn: 0.3506483\ttest: 0.3509457\tbest: 0.3509457 (0)\ttotal: 54.5ms\tremaining: 10.8s\n",
      "199:\tlearn: 0.0678429\ttest: 0.0785547\tbest: 0.0785547 (199)\ttotal: 11.3s\tremaining: 0us\n",
      "\n",
      "bestTest = 0.07855467557\n",
      "bestIteration = 199\n",
      "\n"
     ]
    },
    {
     "name": "stderr",
     "output_type": "stream",
     "text": [
      "Warning: Overfitting detector is active, thus evaluation metric is calculated on every iteration. 'metric_period' is ignored for evaluation metric.\n"
     ]
    },
    {
     "name": "stdout",
     "output_type": "stream",
     "text": [
      "0:\tlearn: 0.3493491\ttest: 0.3497539\tbest: 0.3497539 (0)\ttotal: 53.7ms\tremaining: 10.7s\n",
      "199:\tlearn: 0.0695557\ttest: 0.0795903\tbest: 0.0795903 (199)\ttotal: 11.2s\tremaining: 0us\n",
      "\n",
      "bestTest = 0.07959034441\n",
      "bestIteration = 199\n",
      "\n"
     ]
    },
    {
     "name": "stderr",
     "output_type": "stream",
     "text": [
      "Warning: Overfitting detector is active, thus evaluation metric is calculated on every iteration. 'metric_period' is ignored for evaluation metric.\n"
     ]
    },
    {
     "name": "stdout",
     "output_type": "stream",
     "text": [
      "0:\tlearn: 0.4205230\ttest: 0.4212135\tbest: 0.4212135 (0)\ttotal: 912ms\tremaining: 3m 1s\n",
      "199:\tlearn: 0.0366199\ttest: 0.0582201\tbest: 0.0582201 (199)\ttotal: 3m 7s\tremaining: 0us\n",
      "\n",
      "bestTest = 0.05822014778\n",
      "bestIteration = 199\n",
      "\n",
      "Confusion Matrix: \n",
      "[[113878     94]\n",
      " [  1822   2314]]\n",
      "\n",
      "Accuracy: 0.9838\n",
      "\n",
      "AUC: 0.9546\n",
      "\n",
      "F1 Score: 0.7072\n",
      "\n",
      "Classification Report: \n",
      "               precision    recall  f1-score   support\n",
      "\n",
      "           0       0.98      1.00      0.99    113972\n",
      "           1       0.96      0.56      0.71      4136\n",
      "\n",
      "    accuracy                           0.98    118108\n",
      "   macro avg       0.97      0.78      0.85    118108\n",
      "weighted avg       0.98      0.98      0.98    118108\n",
      "\n"
     ]
    }
   ],
   "source": [
    "# f1 score\n",
    "best_estimator = perform_random_search(clf, X_train, X_val, y_train, y_val, param_grid, scoring='f1')\n",
    "_ = calculate_scores(best_estimator, X_val, y_val)"
   ]
  },
  {
   "cell_type": "markdown",
   "metadata": {},
   "source": [
    "Bayesian Search:"
   ]
  },
  {
   "cell_type": "code",
   "execution_count": 10,
   "metadata": {},
   "outputs": [],
   "source": [
    "from skopt import BayesSearchCV\n",
    "from skopt.space import Real, Categorical, Integer\n",
    "\n",
    "param_grid = {\n",
    "    'silent': [False],\n",
    "    'learning_rate': Real(0.01, 0.3),\n",
    "    'n_estimators': [200],\n",
    "    'depth': Integer(6, 16),\n",
    "    'l2_leaf_reg':[3,1,5,10,100],\n",
    "    'loss_function': ['Logloss', 'CrossEntropy']\n",
    "}\n",
    "\n",
    "def perform_bayes_search(\n",
    "    estimator, X_train, X_val, y_train, y_val, param_grid, scoring=None\n",
    "):\n",
    "    hyperparam_optimizer = BayesSearchCV(\n",
    "        estimator=estimator,\n",
    "        search_spaces=param_grid,\n",
    "        scoring=scoring,\n",
    "        cv=2,\n",
    "        n_iter=15,\n",
    "        n_jobs=1,\n",
    "        refit=True,\n",
    "        return_train_score=False,\n",
    "        optimizer_kwargs={\"base_estimator\": \"GP\"},\n",
    "        random_state=13,\n",
    "        fit_params={\n",
    "                'eval_set': (X_val, y_val),\n",
    "        }\n",
    "    )\n",
    "    hyperparam_optimizer.fit(X_train, y_train)\n",
    "\n",
    "    return hyperparam_optimizer.best_estimator_"
   ]
  },
  {
   "cell_type": "code",
   "execution_count": 11,
   "metadata": {
    "scrolled": true
   },
   "outputs": [
    {
     "name": "stderr",
     "output_type": "stream",
     "text": [
      "Warning: Overfitting detector is active, thus evaluation metric is calculated on every iteration. 'metric_period' is ignored for evaluation metric.\n"
     ]
    },
    {
     "name": "stdout",
     "output_type": "stream",
     "text": [
      "0:\tlearn: 0.3632505\ttest: 0.3635394\tbest: 0.3635394 (0)\ttotal: 109ms\tremaining: 21.8s\n",
      "199:\tlearn: 0.0690067\ttest: 0.0788914\tbest: 0.0788914 (199)\ttotal: 12.1s\tremaining: 0us\n",
      "\n",
      "bestTest = 0.07889137956\n",
      "bestIteration = 199\n",
      "\n"
     ]
    },
    {
     "name": "stderr",
     "output_type": "stream",
     "text": [
      "Warning: Overfitting detector is active, thus evaluation metric is calculated on every iteration. 'metric_period' is ignored for evaluation metric.\n"
     ]
    },
    {
     "name": "stdout",
     "output_type": "stream",
     "text": [
      "0:\tlearn: 0.3619733\ttest: 0.3623615\tbest: 0.3623615 (0)\ttotal: 59.1ms\tremaining: 11.8s\n",
      "199:\tlearn: 0.0699066\ttest: 0.0796372\tbest: 0.0796372 (199)\ttotal: 12.1s\tremaining: 0us\n",
      "\n",
      "bestTest = 0.07963721797\n",
      "bestIteration = 199\n",
      "\n"
     ]
    },
    {
     "name": "stderr",
     "output_type": "stream",
     "text": [
      "Warning: Overfitting detector is active, thus evaluation metric is calculated on every iteration. 'metric_period' is ignored for evaluation metric.\n"
     ]
    },
    {
     "name": "stdout",
     "output_type": "stream",
     "text": [
      "0:\tlearn: 0.3589374\ttest: 0.3592340\tbest: 0.3592340 (0)\ttotal: 468ms\tremaining: 1m 33s\n",
      "199:\tlearn: 0.0469093\ttest: 0.0700253\tbest: 0.0700253 (199)\ttotal: 1m 32s\tremaining: 0us\n",
      "\n",
      "bestTest = 0.07002527255\n",
      "bestIteration = 199\n",
      "\n"
     ]
    },
    {
     "name": "stderr",
     "output_type": "stream",
     "text": [
      "Warning: Overfitting detector is active, thus evaluation metric is calculated on every iteration. 'metric_period' is ignored for evaluation metric.\n"
     ]
    },
    {
     "name": "stdout",
     "output_type": "stream",
     "text": [
      "0:\tlearn: 0.3571715\ttest: 0.3575993\tbest: 0.3575993 (0)\ttotal: 462ms\tremaining: 1m 31s\n",
      "199:\tlearn: 0.0497374\ttest: 0.0714763\tbest: 0.0714763 (199)\ttotal: 1m 32s\tremaining: 0us\n",
      "\n",
      "bestTest = 0.07147628797\n",
      "bestIteration = 199\n",
      "\n"
     ]
    },
    {
     "name": "stderr",
     "output_type": "stream",
     "text": [
      "Warning: Overfitting detector is active, thus evaluation metric is calculated on every iteration. 'metric_period' is ignored for evaluation metric.\n"
     ]
    },
    {
     "name": "stdout",
     "output_type": "stream",
     "text": [
      "0:\tlearn: 0.6546726\ttest: 0.6547063\tbest: 0.6547063 (0)\ttotal: 426ms\tremaining: 1m 24s\n",
      "199:\tlearn: 0.0850456\ttest: 0.0907384\tbest: 0.0907384 (199)\ttotal: 1m 28s\tremaining: 0us\n",
      "\n",
      "bestTest = 0.0907383532\n",
      "bestIteration = 199\n",
      "\n"
     ]
    },
    {
     "name": "stderr",
     "output_type": "stream",
     "text": [
      "Warning: Overfitting detector is active, thus evaluation metric is calculated on every iteration. 'metric_period' is ignored for evaluation metric.\n"
     ]
    },
    {
     "name": "stdout",
     "output_type": "stream",
     "text": [
      "0:\tlearn: 0.6545128\ttest: 0.6545603\tbest: 0.6545603 (0)\ttotal: 422ms\tremaining: 1m 23s\n",
      "199:\tlearn: 0.0851390\ttest: 0.0908934\tbest: 0.0908934 (199)\ttotal: 1m 26s\tremaining: 0us\n",
      "\n",
      "bestTest = 0.0908933754\n",
      "bestIteration = 199\n",
      "\n"
     ]
    },
    {
     "name": "stderr",
     "output_type": "stream",
     "text": [
      "Warning: Overfitting detector is active, thus evaluation metric is calculated on every iteration. 'metric_period' is ignored for evaluation metric.\n"
     ]
    },
    {
     "name": "stdout",
     "output_type": "stream",
     "text": [
      "0:\tlearn: 0.4048225\ttest: 0.4050848\tbest: 0.4050848 (0)\ttotal: 275ms\tremaining: 54.7s\n",
      "199:\tlearn: 0.0561954\ttest: 0.0734815\tbest: 0.0734815 (199)\ttotal: 57.2s\tremaining: 0us\n",
      "\n",
      "bestTest = 0.07348147027\n",
      "bestIteration = 199\n",
      "\n"
     ]
    },
    {
     "name": "stderr",
     "output_type": "stream",
     "text": [
      "Warning: Overfitting detector is active, thus evaluation metric is calculated on every iteration. 'metric_period' is ignored for evaluation metric.\n"
     ]
    },
    {
     "name": "stdout",
     "output_type": "stream",
     "text": [
      "0:\tlearn: 0.4031930\ttest: 0.4035709\tbest: 0.4035709 (0)\ttotal: 301ms\tremaining: 59.8s\n",
      "199:\tlearn: 0.0581154\ttest: 0.0748227\tbest: 0.0748224 (198)\ttotal: 58.1s\tremaining: 0us\n",
      "\n",
      "bestTest = 0.07482236409\n",
      "bestIteration = 198\n",
      "\n",
      "Shrink model to first 199 iterations.\n"
     ]
    },
    {
     "name": "stderr",
     "output_type": "stream",
     "text": [
      "Warning: Overfitting detector is active, thus evaluation metric is calculated on every iteration. 'metric_period' is ignored for evaluation metric.\n"
     ]
    },
    {
     "name": "stdout",
     "output_type": "stream",
     "text": [
      "0:\tlearn: 0.4656007\ttest: 0.4659401\tbest: 0.4659401 (0)\ttotal: 9.3s\tremaining: 30m 51s\n",
      "199:\tlearn: 0.0185741\ttest: 0.0648005\tbest: 0.0647961 (196)\ttotal: 31m 44s\tremaining: 0us\n",
      "\n",
      "bestTest = 0.06479609564\n",
      "bestIteration = 196\n",
      "\n",
      "Shrink model to first 197 iterations.\n"
     ]
    },
    {
     "name": "stderr",
     "output_type": "stream",
     "text": [
      "Warning: Overfitting detector is active, thus evaluation metric is calculated on every iteration. 'metric_period' is ignored for evaluation metric.\n"
     ]
    },
    {
     "name": "stdout",
     "output_type": "stream",
     "text": [
      "0:\tlearn: 0.4680346\ttest: 0.4683806\tbest: 0.4683806 (0)\ttotal: 9.54s\tremaining: 31m 39s\n",
      "199:\tlearn: 0.0186207\ttest: 0.0667242\tbest: 0.0667174 (198)\ttotal: 31m 34s\tremaining: 0us\n",
      "\n",
      "bestTest = 0.06671740515\n",
      "bestIteration = 198\n",
      "\n",
      "Shrink model to first 199 iterations.\n"
     ]
    },
    {
     "name": "stderr",
     "output_type": "stream",
     "text": [
      "Warning: Overfitting detector is active, thus evaluation metric is calculated on every iteration. 'metric_period' is ignored for evaluation metric.\n"
     ]
    },
    {
     "name": "stdout",
     "output_type": "stream",
     "text": [
      "0:\tlearn: 0.3999698\ttest: 0.4004139\tbest: 0.4004139 (0)\ttotal: 4.61s\tremaining: 15m 17s\n",
      "199:\tlearn: 0.0146066\ttest: 0.0658493\tbest: 0.0656834 (188)\ttotal: 16m 8s\tremaining: 0us\n",
      "\n",
      "bestTest = 0.06568340463\n",
      "bestIteration = 188\n",
      "\n",
      "Shrink model to first 189 iterations.\n"
     ]
    },
    {
     "name": "stderr",
     "output_type": "stream",
     "text": [
      "Warning: Overfitting detector is active, thus evaluation metric is calculated on every iteration. 'metric_period' is ignored for evaluation metric.\n"
     ]
    },
    {
     "name": "stdout",
     "output_type": "stream",
     "text": [
      "0:\tlearn: 0.4030255\ttest: 0.4034984\tbest: 0.4034984 (0)\ttotal: 4.82s\tremaining: 15m 59s\n",
      "199:\tlearn: 0.0150921\ttest: 0.0671128\tbest: 0.0670090 (187)\ttotal: 16m 20s\tremaining: 0us\n",
      "\n",
      "bestTest = 0.06700901156\n",
      "bestIteration = 187\n",
      "\n",
      "Shrink model to first 188 iterations.\n"
     ]
    },
    {
     "name": "stderr",
     "output_type": "stream",
     "text": [
      "Warning: Overfitting detector is active, thus evaluation metric is calculated on every iteration. 'metric_period' is ignored for evaluation metric.\n"
     ]
    },
    {
     "name": "stdout",
     "output_type": "stream",
     "text": [
      "0:\tlearn: 0.3693831\ttest: 0.3696452\tbest: 0.3696452 (0)\ttotal: 59.1ms\tremaining: 11.8s\n",
      "199:\tlearn: 0.0798570\ttest: 0.0857720\tbest: 0.0857720 (199)\ttotal: 11.4s\tremaining: 0us\n",
      "\n",
      "bestTest = 0.08577200116\n",
      "bestIteration = 199\n",
      "\n"
     ]
    },
    {
     "name": "stderr",
     "output_type": "stream",
     "text": [
      "Warning: Overfitting detector is active, thus evaluation metric is calculated on every iteration. 'metric_period' is ignored for evaluation metric.\n"
     ]
    },
    {
     "name": "stdout",
     "output_type": "stream",
     "text": [
      "0:\tlearn: 0.3681152\ttest: 0.3684692\tbest: 0.3684692 (0)\ttotal: 58.4ms\tremaining: 11.6s\n",
      "199:\tlearn: 0.0818300\ttest: 0.0869632\tbest: 0.0869628 (197)\ttotal: 11.1s\tremaining: 0us\n",
      "\n",
      "bestTest = 0.08696284209\n",
      "bestIteration = 197\n",
      "\n",
      "Shrink model to first 198 iterations.\n"
     ]
    },
    {
     "name": "stderr",
     "output_type": "stream",
     "text": [
      "Warning: Overfitting detector is active, thus evaluation metric is calculated on every iteration. 'metric_period' is ignored for evaluation metric.\n"
     ]
    },
    {
     "name": "stdout",
     "output_type": "stream",
     "text": [
      "0:\tlearn: 0.3512532\ttest: 0.3516275\tbest: 0.3516275 (0)\ttotal: 2.56s\tremaining: 8m 29s\n",
      "199:\tlearn: 0.0248691\ttest: 0.0648479\tbest: 0.0648473 (198)\ttotal: 8m 43s\tremaining: 0us\n",
      "\n",
      "bestTest = 0.06484734025\n",
      "bestIteration = 198\n",
      "\n",
      "Shrink model to first 199 iterations.\n"
     ]
    },
    {
     "name": "stderr",
     "output_type": "stream",
     "text": [
      "Warning: Overfitting detector is active, thus evaluation metric is calculated on every iteration. 'metric_period' is ignored for evaluation metric.\n"
     ]
    },
    {
     "name": "stdout",
     "output_type": "stream",
     "text": [
      "0:\tlearn: 0.3535734\ttest: 0.3540091\tbest: 0.3540091 (0)\ttotal: 2.65s\tremaining: 8m 46s\n",
      "199:\tlearn: 0.0286862\ttest: 0.0663100\tbest: 0.0663100 (199)\ttotal: 8m 40s\tremaining: 0us\n",
      "\n",
      "bestTest = 0.06631003765\n",
      "bestIteration = 199\n",
      "\n"
     ]
    },
    {
     "name": "stderr",
     "output_type": "stream",
     "text": [
      "Warning: Overfitting detector is active, thus evaluation metric is calculated on every iteration. 'metric_period' is ignored for evaluation metric.\n"
     ]
    },
    {
     "name": "stdout",
     "output_type": "stream",
     "text": [
      "0:\tlearn: 0.6204075\ttest: 0.6204771\tbest: 0.6204771 (0)\ttotal: 284ms\tremaining: 56.5s\n",
      "199:\tlearn: 0.0804694\ttest: 0.0866928\tbest: 0.0866928 (199)\ttotal: 57.8s\tremaining: 0us\n",
      "\n",
      "bestTest = 0.08669284703\n",
      "bestIteration = 199\n",
      "\n"
     ]
    },
    {
     "name": "stderr",
     "output_type": "stream",
     "text": [
      "Warning: Overfitting detector is active, thus evaluation metric is calculated on every iteration. 'metric_period' is ignored for evaluation metric.\n"
     ]
    },
    {
     "name": "stdout",
     "output_type": "stream",
     "text": [
      "0:\tlearn: 0.6199086\ttest: 0.6200020\tbest: 0.6200020 (0)\ttotal: 315ms\tremaining: 1m 2s\n",
      "199:\tlearn: 0.0810433\ttest: 0.0872440\tbest: 0.0872440 (199)\ttotal: 58.1s\tremaining: 0us\n",
      "\n",
      "bestTest = 0.08724402669\n",
      "bestIteration = 199\n",
      "\n"
     ]
    },
    {
     "name": "stderr",
     "output_type": "stream",
     "text": [
      "Warning: Overfitting detector is active, thus evaluation metric is calculated on every iteration. 'metric_period' is ignored for evaluation metric.\n"
     ]
    },
    {
     "name": "stdout",
     "output_type": "stream",
     "text": [
      "0:\tlearn: 0.3762391\ttest: 0.3765219\tbest: 0.3765219 (0)\ttotal: 432ms\tremaining: 1m 26s\n",
      "199:\tlearn: 0.0476842\ttest: 0.0696456\tbest: 0.0696456 (199)\ttotal: 1m 27s\tremaining: 0us\n",
      "\n",
      "bestTest = 0.06964560058\n",
      "bestIteration = 199\n",
      "\n"
     ]
    },
    {
     "name": "stderr",
     "output_type": "stream",
     "text": [
      "Warning: Overfitting detector is active, thus evaluation metric is calculated on every iteration. 'metric_period' is ignored for evaluation metric.\n"
     ]
    },
    {
     "name": "stdout",
     "output_type": "stream",
     "text": [
      "0:\tlearn: 0.3745195\ttest: 0.3749221\tbest: 0.3749221 (0)\ttotal: 441ms\tremaining: 1m 27s\n",
      "199:\tlearn: 0.0514214\ttest: 0.0723493\tbest: 0.0723493 (199)\ttotal: 1m 27s\tremaining: 0us\n",
      "\n",
      "bestTest = 0.07234927369\n",
      "bestIteration = 199\n",
      "\n"
     ]
    },
    {
     "name": "stderr",
     "output_type": "stream",
     "text": [
      "Warning: Overfitting detector is active, thus evaluation metric is calculated on every iteration. 'metric_period' is ignored for evaluation metric.\n"
     ]
    },
    {
     "name": "stdout",
     "output_type": "stream",
     "text": [
      "0:\tlearn: 0.3105705\ttest: 0.3111683\tbest: 0.3111683 (0)\ttotal: 9.47s\tremaining: 31m 25s\n",
      "199:\tlearn: 0.0059240\ttest: 0.0694410\tbest: 0.0672415 (118)\ttotal: 32m\tremaining: 0us\n",
      "\n",
      "bestTest = 0.0672414881\n",
      "bestIteration = 118\n",
      "\n",
      "Shrink model to first 119 iterations.\n"
     ]
    },
    {
     "name": "stderr",
     "output_type": "stream",
     "text": [
      "Warning: Overfitting detector is active, thus evaluation metric is calculated on every iteration. 'metric_period' is ignored for evaluation metric.\n"
     ]
    },
    {
     "name": "stdout",
     "output_type": "stream",
     "text": [
      "0:\tlearn: 0.3137828\ttest: 0.3144663\tbest: 0.3144663 (0)\ttotal: 9.32s\tremaining: 30m 53s\n",
      "199:\tlearn: 0.0072475\ttest: 0.0714548\tbest: 0.0691199 (123)\ttotal: 31m 48s\tremaining: 0us\n",
      "\n",
      "bestTest = 0.06911986339\n",
      "bestIteration = 123\n",
      "\n",
      "Shrink model to first 124 iterations.\n"
     ]
    },
    {
     "name": "stderr",
     "output_type": "stream",
     "text": [
      "Warning: Overfitting detector is active, thus evaluation metric is calculated on every iteration. 'metric_period' is ignored for evaluation metric.\n"
     ]
    },
    {
     "name": "stdout",
     "output_type": "stream",
     "text": [
      "0:\tlearn: 0.3086983\ttest: 0.3093487\tbest: 0.3093487 (0)\ttotal: 9.53s\tremaining: 31m 36s\n",
      "199:\tlearn: 0.0025595\ttest: 0.0762207\tbest: 0.0698706 (78)\ttotal: 32m 26s\tremaining: 0us\n",
      "\n",
      "bestTest = 0.06987060834\n",
      "bestIteration = 78\n",
      "\n",
      "Shrink model to first 79 iterations.\n"
     ]
    },
    {
     "name": "stderr",
     "output_type": "stream",
     "text": [
      "Warning: Overfitting detector is active, thus evaluation metric is calculated on every iteration. 'metric_period' is ignored for evaluation metric.\n"
     ]
    },
    {
     "name": "stdout",
     "output_type": "stream",
     "text": [
      "0:\tlearn: 0.3094932\ttest: 0.3104286\tbest: 0.3104286 (0)\ttotal: 9.25s\tremaining: 30m 40s\n",
      "199:\tlearn: 0.0028981\ttest: 0.0806115\tbest: 0.0732729 (69)\ttotal: 32m 14s\tremaining: 0us\n",
      "\n",
      "bestTest = 0.07327285129\n",
      "bestIteration = 69\n",
      "\n",
      "Shrink model to first 70 iterations.\n"
     ]
    },
    {
     "name": "stderr",
     "output_type": "stream",
     "text": [
      "Warning: Overfitting detector is active, thus evaluation metric is calculated on every iteration. 'metric_period' is ignored for evaluation metric.\n"
     ]
    },
    {
     "name": "stdout",
     "output_type": "stream",
     "text": [
      "0:\tlearn: 0.6751553\ttest: 0.6751707\tbest: 0.6751707 (0)\ttotal: 9.11s\tremaining: 30m 12s\n",
      "199:\tlearn: 0.1043282\ttest: 0.1060997\tbest: 0.1060997 (199)\ttotal: 31m 2s\tremaining: 0us\n",
      "\n",
      "bestTest = 0.1060996505\n",
      "bestIteration = 199\n",
      "\n"
     ]
    },
    {
     "name": "stderr",
     "output_type": "stream",
     "text": [
      "Warning: Overfitting detector is active, thus evaluation metric is calculated on every iteration. 'metric_period' is ignored for evaluation metric.\n"
     ]
    },
    {
     "name": "stdout",
     "output_type": "stream",
     "text": [
      "0:\tlearn: 0.6750464\ttest: 0.6750655\tbest: 0.6750655 (0)\ttotal: 9.37s\tremaining: 31m 4s\n",
      "199:\tlearn: 0.1045878\ttest: 0.1065559\tbest: 0.1065559 (199)\ttotal: 30m 2s\tremaining: 0us\n",
      "\n",
      "bestTest = 0.1065559068\n",
      "bestIteration = 199\n",
      "\n"
     ]
    },
    {
     "name": "stderr",
     "output_type": "stream",
     "text": [
      "Warning: Overfitting detector is active, thus evaluation metric is calculated on every iteration. 'metric_period' is ignored for evaluation metric.\n"
     ]
    },
    {
     "name": "stdout",
     "output_type": "stream",
     "text": [
      "0:\tlearn: 0.3265272\ttest: 0.3267374\tbest: 0.3267374 (0)\ttotal: 43.4ms\tremaining: 8.63s\n",
      "199:\tlearn: 0.0668413\ttest: 0.0786039\tbest: 0.0786039 (199)\ttotal: 9.3s\tremaining: 0us\n",
      "\n",
      "bestTest = 0.07860390144\n",
      "bestIteration = 199\n",
      "\n"
     ]
    },
    {
     "name": "stderr",
     "output_type": "stream",
     "text": [
      "Warning: Overfitting detector is active, thus evaluation metric is calculated on every iteration. 'metric_period' is ignored for evaluation metric.\n"
     ]
    },
    {
     "name": "stdout",
     "output_type": "stream",
     "text": [
      "0:\tlearn: 0.3253090\ttest: 0.3255909\tbest: 0.3255909 (0)\ttotal: 42.5ms\tremaining: 8.46s\n",
      "199:\tlearn: 0.0675265\ttest: 0.0788202\tbest: 0.0788202 (199)\ttotal: 9.27s\tremaining: 0us\n",
      "\n",
      "bestTest = 0.0788201767\n",
      "bestIteration = 199\n",
      "\n"
     ]
    },
    {
     "name": "stderr",
     "output_type": "stream",
     "text": [
      "Warning: Overfitting detector is active, thus evaluation metric is calculated on every iteration. 'metric_period' is ignored for evaluation metric.\n"
     ]
    },
    {
     "name": "stdout",
     "output_type": "stream",
     "text": [
      "0:\tlearn: 0.3642152\ttest: 0.3647106\tbest: 0.3647106 (0)\ttotal: 9.24s\tremaining: 30m 39s\n",
      "199:\tlearn: 0.0112147\ttest: 0.0650428\tbest: 0.0645113 (158)\ttotal: 31m 23s\tremaining: 0us\n",
      "\n",
      "bestTest = 0.06451131912\n",
      "bestIteration = 158\n",
      "\n",
      "Shrink model to first 159 iterations.\n"
     ]
    },
    {
     "name": "stderr",
     "output_type": "stream",
     "text": [
      "Warning: Overfitting detector is active, thus evaluation metric is calculated on every iteration. 'metric_period' is ignored for evaluation metric.\n"
     ]
    },
    {
     "name": "stdout",
     "output_type": "stream",
     "text": [
      "0:\tlearn: 0.3671447\ttest: 0.3676809\tbest: 0.3676809 (0)\ttotal: 9.37s\tremaining: 31m 4s\n",
      "199:\tlearn: 0.0112508\ttest: 0.0673803\tbest: 0.0672623 (186)\ttotal: 31m 38s\tremaining: 0us\n",
      "\n",
      "bestTest = 0.06726233505\n",
      "bestIteration = 186\n",
      "\n",
      "Shrink model to first 187 iterations.\n"
     ]
    },
    {
     "name": "stderr",
     "output_type": "stream",
     "text": [
      "Warning: Overfitting detector is active, thus evaluation metric is calculated on every iteration. 'metric_period' is ignored for evaluation metric.\n"
     ]
    },
    {
     "name": "stdout",
     "output_type": "stream",
     "text": [
      "0:\tlearn: 0.3590043\ttest: 0.3597418\tbest: 0.3597418 (0)\ttotal: 10.2s\tremaining: 33m 57s\n",
      "199:\tlearn: 0.0137726\ttest: 0.0510194\tbest: 0.0509922 (196)\ttotal: 32m 58s\tremaining: 0us\n",
      "\n",
      "bestTest = 0.05099219388\n",
      "bestIteration = 196\n",
      "\n",
      "Shrink model to first 197 iterations.\n",
      "Confusion Matrix: \n",
      "[[113872    100]\n",
      " [  1635   2501]]\n",
      "\n",
      "Accuracy: 0.9853\n",
      "\n",
      "AUC: 0.9656\n",
      "\n",
      "F1 Score: 0.7425\n",
      "\n",
      "Classification Report: \n",
      "               precision    recall  f1-score   support\n",
      "\n",
      "           0       0.99      1.00      0.99    113972\n",
      "           1       0.96      0.60      0.74      4136\n",
      "\n",
      "    accuracy                           0.99    118108\n",
      "   macro avg       0.97      0.80      0.87    118108\n",
      "weighted avg       0.98      0.99      0.98    118108\n",
      "\n"
     ]
    }
   ],
   "source": [
    "# accuracy score\n",
    "best_estimator = perform_bayes_search(clf, X_train, X_val, y_train, y_val, param_grid, scoring='accuracy')\n",
    "_ = calculate_scores(best_estimator, X_val, y_val)"
   ]
  },
  {
   "cell_type": "code",
   "execution_count": 12,
   "metadata": {
    "scrolled": true
   },
   "outputs": [
    {
     "name": "stderr",
     "output_type": "stream",
     "text": [
      "Warning: Overfitting detector is active, thus evaluation metric is calculated on every iteration. 'metric_period' is ignored for evaluation metric.\n"
     ]
    },
    {
     "name": "stdout",
     "output_type": "stream",
     "text": [
      "0:\tlearn: 0.3632505\ttest: 0.3635394\tbest: 0.3635394 (0)\ttotal: 54.3ms\tremaining: 10.8s\n",
      "199:\tlearn: 0.0690067\ttest: 0.0788914\tbest: 0.0788914 (199)\ttotal: 11.3s\tremaining: 0us\n",
      "\n",
      "bestTest = 0.07889137956\n",
      "bestIteration = 199\n",
      "\n"
     ]
    },
    {
     "name": "stderr",
     "output_type": "stream",
     "text": [
      "Warning: Overfitting detector is active, thus evaluation metric is calculated on every iteration. 'metric_period' is ignored for evaluation metric.\n"
     ]
    },
    {
     "name": "stdout",
     "output_type": "stream",
     "text": [
      "0:\tlearn: 0.3619733\ttest: 0.3623615\tbest: 0.3623615 (0)\ttotal: 54.3ms\tremaining: 10.8s\n",
      "199:\tlearn: 0.0699066\ttest: 0.0796372\tbest: 0.0796372 (199)\ttotal: 11.3s\tremaining: 0us\n",
      "\n",
      "bestTest = 0.07963721797\n",
      "bestIteration = 199\n",
      "\n"
     ]
    },
    {
     "name": "stderr",
     "output_type": "stream",
     "text": [
      "Warning: Overfitting detector is active, thus evaluation metric is calculated on every iteration. 'metric_period' is ignored for evaluation metric.\n"
     ]
    },
    {
     "name": "stdout",
     "output_type": "stream",
     "text": [
      "0:\tlearn: 0.3589374\ttest: 0.3592340\tbest: 0.3592340 (0)\ttotal: 427ms\tremaining: 1m 25s\n",
      "199:\tlearn: 0.0469093\ttest: 0.0700253\tbest: 0.0700253 (199)\ttotal: 1m 24s\tremaining: 0us\n",
      "\n",
      "bestTest = 0.07002527255\n",
      "bestIteration = 199\n",
      "\n"
     ]
    },
    {
     "name": "stderr",
     "output_type": "stream",
     "text": [
      "Warning: Overfitting detector is active, thus evaluation metric is calculated on every iteration. 'metric_period' is ignored for evaluation metric.\n"
     ]
    },
    {
     "name": "stdout",
     "output_type": "stream",
     "text": [
      "0:\tlearn: 0.3571715\ttest: 0.3575993\tbest: 0.3575993 (0)\ttotal: 426ms\tremaining: 1m 24s\n",
      "199:\tlearn: 0.0497374\ttest: 0.0714763\tbest: 0.0714763 (199)\ttotal: 1m 24s\tremaining: 0us\n",
      "\n",
      "bestTest = 0.07147628797\n",
      "bestIteration = 199\n",
      "\n"
     ]
    },
    {
     "name": "stderr",
     "output_type": "stream",
     "text": [
      "Warning: Overfitting detector is active, thus evaluation metric is calculated on every iteration. 'metric_period' is ignored for evaluation metric.\n"
     ]
    },
    {
     "name": "stdout",
     "output_type": "stream",
     "text": [
      "0:\tlearn: 0.6546726\ttest: 0.6547063\tbest: 0.6547063 (0)\ttotal: 424ms\tremaining: 1m 24s\n",
      "199:\tlearn: 0.0850456\ttest: 0.0907384\tbest: 0.0907384 (199)\ttotal: 1m 24s\tremaining: 0us\n",
      "\n",
      "bestTest = 0.0907383532\n",
      "bestIteration = 199\n",
      "\n"
     ]
    },
    {
     "name": "stderr",
     "output_type": "stream",
     "text": [
      "Warning: Overfitting detector is active, thus evaluation metric is calculated on every iteration. 'metric_period' is ignored for evaluation metric.\n"
     ]
    },
    {
     "name": "stdout",
     "output_type": "stream",
     "text": [
      "0:\tlearn: 0.6545128\ttest: 0.6545603\tbest: 0.6545603 (0)\ttotal: 428ms\tremaining: 1m 25s\n",
      "199:\tlearn: 0.0851390\ttest: 0.0908934\tbest: 0.0908934 (199)\ttotal: 1m 24s\tremaining: 0us\n",
      "\n",
      "bestTest = 0.0908933754\n",
      "bestIteration = 199\n",
      "\n"
     ]
    },
    {
     "name": "stderr",
     "output_type": "stream",
     "text": [
      "Warning: Overfitting detector is active, thus evaluation metric is calculated on every iteration. 'metric_period' is ignored for evaluation metric.\n"
     ]
    },
    {
     "name": "stdout",
     "output_type": "stream",
     "text": [
      "0:\tlearn: 0.4048225\ttest: 0.4050848\tbest: 0.4050848 (0)\ttotal: 279ms\tremaining: 55.4s\n",
      "199:\tlearn: 0.0561954\ttest: 0.0734815\tbest: 0.0734815 (199)\ttotal: 55.6s\tremaining: 0us\n",
      "\n",
      "bestTest = 0.07348147027\n",
      "bestIteration = 199\n",
      "\n"
     ]
    },
    {
     "name": "stderr",
     "output_type": "stream",
     "text": [
      "Warning: Overfitting detector is active, thus evaluation metric is calculated on every iteration. 'metric_period' is ignored for evaluation metric.\n"
     ]
    },
    {
     "name": "stdout",
     "output_type": "stream",
     "text": [
      "0:\tlearn: 0.4031930\ttest: 0.4035709\tbest: 0.4035709 (0)\ttotal: 279ms\tremaining: 55.5s\n",
      "199:\tlearn: 0.0581154\ttest: 0.0748227\tbest: 0.0748224 (198)\ttotal: 55.7s\tremaining: 0us\n",
      "\n",
      "bestTest = 0.07482236409\n",
      "bestIteration = 198\n",
      "\n",
      "Shrink model to first 199 iterations.\n"
     ]
    },
    {
     "name": "stderr",
     "output_type": "stream",
     "text": [
      "Warning: Overfitting detector is active, thus evaluation metric is calculated on every iteration. 'metric_period' is ignored for evaluation metric.\n"
     ]
    },
    {
     "name": "stdout",
     "output_type": "stream",
     "text": [
      "0:\tlearn: 0.4656007\ttest: 0.4659401\tbest: 0.4659401 (0)\ttotal: 9.34s\tremaining: 30m 58s\n",
      "199:\tlearn: 0.0185741\ttest: 0.0648005\tbest: 0.0647961 (196)\ttotal: 31m 34s\tremaining: 0us\n",
      "\n",
      "bestTest = 0.06479609564\n",
      "bestIteration = 196\n",
      "\n",
      "Shrink model to first 197 iterations.\n"
     ]
    },
    {
     "name": "stderr",
     "output_type": "stream",
     "text": [
      "Warning: Overfitting detector is active, thus evaluation metric is calculated on every iteration. 'metric_period' is ignored for evaluation metric.\n"
     ]
    },
    {
     "name": "stdout",
     "output_type": "stream",
     "text": [
      "0:\tlearn: 0.4680346\ttest: 0.4683806\tbest: 0.4683806 (0)\ttotal: 9.25s\tremaining: 30m 40s\n",
      "199:\tlearn: 0.0186207\ttest: 0.0667242\tbest: 0.0667174 (198)\ttotal: 31m 20s\tremaining: 0us\n",
      "\n",
      "bestTest = 0.06671740515\n",
      "bestIteration = 198\n",
      "\n",
      "Shrink model to first 199 iterations.\n"
     ]
    },
    {
     "name": "stderr",
     "output_type": "stream",
     "text": [
      "Warning: Overfitting detector is active, thus evaluation metric is calculated on every iteration. 'metric_period' is ignored for evaluation metric.\n"
     ]
    },
    {
     "name": "stdout",
     "output_type": "stream",
     "text": [
      "0:\tlearn: 0.3999698\ttest: 0.4004139\tbest: 0.4004139 (0)\ttotal: 4.6s\tremaining: 15m 15s\n",
      "199:\tlearn: 0.0146066\ttest: 0.0658493\tbest: 0.0656834 (188)\ttotal: 15m 49s\tremaining: 0us\n",
      "\n",
      "bestTest = 0.06568340463\n",
      "bestIteration = 188\n",
      "\n",
      "Shrink model to first 189 iterations.\n"
     ]
    },
    {
     "name": "stderr",
     "output_type": "stream",
     "text": [
      "Warning: Overfitting detector is active, thus evaluation metric is calculated on every iteration. 'metric_period' is ignored for evaluation metric.\n"
     ]
    },
    {
     "name": "stdout",
     "output_type": "stream",
     "text": [
      "0:\tlearn: 0.4030255\ttest: 0.4034984\tbest: 0.4034984 (0)\ttotal: 4.76s\tremaining: 15m 48s\n",
      "199:\tlearn: 0.0150921\ttest: 0.0671128\tbest: 0.0670090 (187)\ttotal: 15m 58s\tremaining: 0us\n",
      "\n",
      "bestTest = 0.06700901156\n",
      "bestIteration = 187\n",
      "\n",
      "Shrink model to first 188 iterations.\n"
     ]
    },
    {
     "name": "stderr",
     "output_type": "stream",
     "text": [
      "Warning: Overfitting detector is active, thus evaluation metric is calculated on every iteration. 'metric_period' is ignored for evaluation metric.\n"
     ]
    },
    {
     "name": "stdout",
     "output_type": "stream",
     "text": [
      "0:\tlearn: 0.3693831\ttest: 0.3696452\tbest: 0.3696452 (0)\ttotal: 55.1ms\tremaining: 11s\n",
      "199:\tlearn: 0.0798570\ttest: 0.0857720\tbest: 0.0857720 (199)\ttotal: 10.8s\tremaining: 0us\n",
      "\n",
      "bestTest = 0.08577200116\n",
      "bestIteration = 199\n",
      "\n"
     ]
    },
    {
     "name": "stderr",
     "output_type": "stream",
     "text": [
      "Warning: Overfitting detector is active, thus evaluation metric is calculated on every iteration. 'metric_period' is ignored for evaluation metric.\n"
     ]
    },
    {
     "name": "stdout",
     "output_type": "stream",
     "text": [
      "0:\tlearn: 0.3681152\ttest: 0.3684692\tbest: 0.3684692 (0)\ttotal: 55.1ms\tremaining: 11s\n",
      "199:\tlearn: 0.0818300\ttest: 0.0869632\tbest: 0.0869628 (197)\ttotal: 10.5s\tremaining: 0us\n",
      "\n",
      "bestTest = 0.08696284209\n",
      "bestIteration = 197\n",
      "\n",
      "Shrink model to first 198 iterations.\n"
     ]
    },
    {
     "name": "stderr",
     "output_type": "stream",
     "text": [
      "Warning: Overfitting detector is active, thus evaluation metric is calculated on every iteration. 'metric_period' is ignored for evaluation metric.\n"
     ]
    },
    {
     "name": "stdout",
     "output_type": "stream",
     "text": [
      "0:\tlearn: 0.3512532\ttest: 0.3516275\tbest: 0.3516275 (0)\ttotal: 2.4s\tremaining: 7m 58s\n",
      "199:\tlearn: 0.0248691\ttest: 0.0648479\tbest: 0.0648473 (198)\ttotal: 8m 24s\tremaining: 0us\n",
      "\n",
      "bestTest = 0.06484734025\n",
      "bestIteration = 198\n",
      "\n",
      "Shrink model to first 199 iterations.\n"
     ]
    },
    {
     "name": "stderr",
     "output_type": "stream",
     "text": [
      "Warning: Overfitting detector is active, thus evaluation metric is calculated on every iteration. 'metric_period' is ignored for evaluation metric.\n"
     ]
    },
    {
     "name": "stdout",
     "output_type": "stream",
     "text": [
      "0:\tlearn: 0.3535734\ttest: 0.3540091\tbest: 0.3540091 (0)\ttotal: 2.39s\tremaining: 7m 55s\n",
      "199:\tlearn: 0.0286862\ttest: 0.0663100\tbest: 0.0663100 (199)\ttotal: 8m 17s\tremaining: 0us\n",
      "\n",
      "bestTest = 0.06631003765\n",
      "bestIteration = 199\n",
      "\n"
     ]
    },
    {
     "name": "stderr",
     "output_type": "stream",
     "text": [
      "Warning: Overfitting detector is active, thus evaluation metric is calculated on every iteration. 'metric_period' is ignored for evaluation metric.\n"
     ]
    },
    {
     "name": "stdout",
     "output_type": "stream",
     "text": [
      "0:\tlearn: 0.6204075\ttest: 0.6204771\tbest: 0.6204771 (0)\ttotal: 303ms\tremaining: 1m\n",
      "199:\tlearn: 0.0804694\ttest: 0.0866928\tbest: 0.0866928 (199)\ttotal: 55.9s\tremaining: 0us\n",
      "\n",
      "bestTest = 0.08669284703\n",
      "bestIteration = 199\n",
      "\n"
     ]
    },
    {
     "name": "stderr",
     "output_type": "stream",
     "text": [
      "Warning: Overfitting detector is active, thus evaluation metric is calculated on every iteration. 'metric_period' is ignored for evaluation metric.\n"
     ]
    },
    {
     "name": "stdout",
     "output_type": "stream",
     "text": [
      "0:\tlearn: 0.6199086\ttest: 0.6200020\tbest: 0.6200020 (0)\ttotal: 275ms\tremaining: 54.7s\n",
      "199:\tlearn: 0.0810433\ttest: 0.0872440\tbest: 0.0872440 (199)\ttotal: 55.9s\tremaining: 0us\n",
      "\n",
      "bestTest = 0.08724402669\n",
      "bestIteration = 199\n",
      "\n"
     ]
    },
    {
     "name": "stderr",
     "output_type": "stream",
     "text": [
      "Warning: Overfitting detector is active, thus evaluation metric is calculated on every iteration. 'metric_period' is ignored for evaluation metric.\n"
     ]
    },
    {
     "name": "stdout",
     "output_type": "stream",
     "text": [
      "0:\tlearn: 0.3762391\ttest: 0.3765219\tbest: 0.3765219 (0)\ttotal: 422ms\tremaining: 1m 23s\n",
      "199:\tlearn: 0.0476842\ttest: 0.0696456\tbest: 0.0696456 (199)\ttotal: 1m 24s\tremaining: 0us\n",
      "\n",
      "bestTest = 0.06964560058\n",
      "bestIteration = 199\n",
      "\n"
     ]
    },
    {
     "name": "stderr",
     "output_type": "stream",
     "text": [
      "Warning: Overfitting detector is active, thus evaluation metric is calculated on every iteration. 'metric_period' is ignored for evaluation metric.\n"
     ]
    },
    {
     "name": "stdout",
     "output_type": "stream",
     "text": [
      "0:\tlearn: 0.3745195\ttest: 0.3749221\tbest: 0.3749221 (0)\ttotal: 422ms\tremaining: 1m 23s\n",
      "199:\tlearn: 0.0514214\ttest: 0.0723493\tbest: 0.0723493 (199)\ttotal: 1m 24s\tremaining: 0us\n",
      "\n",
      "bestTest = 0.07234927369\n",
      "bestIteration = 199\n",
      "\n"
     ]
    },
    {
     "name": "stderr",
     "output_type": "stream",
     "text": [
      "Warning: Overfitting detector is active, thus evaluation metric is calculated on every iteration. 'metric_period' is ignored for evaluation metric.\n"
     ]
    },
    {
     "name": "stdout",
     "output_type": "stream",
     "text": [
      "0:\tlearn: 0.3086983\ttest: 0.3093487\tbest: 0.3093487 (0)\ttotal: 9.42s\tremaining: 31m 14s\n",
      "199:\tlearn: 0.0025595\ttest: 0.0762207\tbest: 0.0698706 (78)\ttotal: 31m 11s\tremaining: 0us\n",
      "\n",
      "bestTest = 0.06987060834\n",
      "bestIteration = 78\n",
      "\n",
      "Shrink model to first 79 iterations.\n"
     ]
    },
    {
     "name": "stderr",
     "output_type": "stream",
     "text": [
      "Warning: Overfitting detector is active, thus evaluation metric is calculated on every iteration. 'metric_period' is ignored for evaluation metric.\n"
     ]
    },
    {
     "name": "stdout",
     "output_type": "stream",
     "text": [
      "0:\tlearn: 0.3094932\ttest: 0.3104286\tbest: 0.3104286 (0)\ttotal: 9.25s\tremaining: 30m 40s\n",
      "199:\tlearn: 0.0028981\ttest: 0.0806115\tbest: 0.0732729 (69)\ttotal: 31m 6s\tremaining: 0us\n",
      "\n",
      "bestTest = 0.07327285129\n",
      "bestIteration = 69\n",
      "\n",
      "Shrink model to first 70 iterations.\n"
     ]
    },
    {
     "name": "stderr",
     "output_type": "stream",
     "text": [
      "Warning: Overfitting detector is active, thus evaluation metric is calculated on every iteration. 'metric_period' is ignored for evaluation metric.\n"
     ]
    },
    {
     "name": "stdout",
     "output_type": "stream",
     "text": [
      "0:\tlearn: 0.4098051\ttest: 0.4100426\tbest: 0.4100426 (0)\ttotal: 9.34s\tremaining: 30m 59s\n",
      "199:\tlearn: 0.0555868\ttest: 0.0754197\tbest: 0.0754197 (199)\ttotal: 31m 21s\tremaining: 0us\n",
      "\n",
      "bestTest = 0.07541972554\n",
      "bestIteration = 199\n",
      "\n"
     ]
    },
    {
     "name": "stderr",
     "output_type": "stream",
     "text": [
      "Warning: Overfitting detector is active, thus evaluation metric is calculated on every iteration. 'metric_period' is ignored for evaluation metric.\n"
     ]
    },
    {
     "name": "stdout",
     "output_type": "stream",
     "text": [
      "0:\tlearn: 0.4084261\ttest: 0.4087623\tbest: 0.4087623 (0)\ttotal: 9.54s\tremaining: 31m 38s\n",
      "199:\tlearn: 0.0564724\ttest: 0.0752889\tbest: 0.0752889 (199)\ttotal: 31m 30s\tremaining: 0us\n",
      "\n",
      "bestTest = 0.075288903\n",
      "bestIteration = 199\n",
      "\n"
     ]
    },
    {
     "name": "stderr",
     "output_type": "stream",
     "text": [
      "Warning: Overfitting detector is active, thus evaluation metric is calculated on every iteration. 'metric_period' is ignored for evaluation metric.\n"
     ]
    },
    {
     "name": "stdout",
     "output_type": "stream",
     "text": [
      "0:\tlearn: 0.3485631\ttest: 0.3490832\tbest: 0.3490832 (0)\ttotal: 9.24s\tremaining: 30m 38s\n",
      "199:\tlearn: 0.0093953\ttest: 0.0650349\tbest: 0.0647624 (133)\ttotal: 34m 11s\tremaining: 0us\n",
      "\n",
      "bestTest = 0.06476238599\n",
      "bestIteration = 133\n",
      "\n",
      "Shrink model to first 134 iterations.\n"
     ]
    },
    {
     "name": "stderr",
     "output_type": "stream",
     "text": [
      "Warning: Overfitting detector is active, thus evaluation metric is calculated on every iteration. 'metric_period' is ignored for evaluation metric.\n"
     ]
    },
    {
     "name": "stdout",
     "output_type": "stream",
     "text": [
      "0:\tlearn: 0.3515234\ttest: 0.3520928\tbest: 0.3520928 (0)\ttotal: 11.1s\tremaining: 36m 43s\n",
      "199:\tlearn: 0.0098222\ttest: 0.0670629\tbest: 0.0664994 (146)\ttotal: 32m 20s\tremaining: 0us\n",
      "\n",
      "bestTest = 0.06649942045\n",
      "bestIteration = 146\n",
      "\n",
      "Shrink model to first 147 iterations.\n"
     ]
    },
    {
     "name": "stderr",
     "output_type": "stream",
     "text": [
      "Warning: Overfitting detector is active, thus evaluation metric is calculated on every iteration. 'metric_period' is ignored for evaluation metric.\n"
     ]
    },
    {
     "name": "stdout",
     "output_type": "stream",
     "text": [
      "0:\tlearn: 0.4963730\ttest: 0.4966845\tbest: 0.4966845 (0)\ttotal: 9.26s\tremaining: 30m 42s\n",
      "199:\tlearn: 0.0121035\ttest: 0.0664060\tbest: 0.0663089 (166)\ttotal: 31m 30s\tremaining: 0us\n",
      "\n",
      "bestTest = 0.06630890944\n",
      "bestIteration = 166\n",
      "\n",
      "Shrink model to first 167 iterations.\n"
     ]
    },
    {
     "name": "stderr",
     "output_type": "stream",
     "text": [
      "Warning: Overfitting detector is active, thus evaluation metric is calculated on every iteration. 'metric_period' is ignored for evaluation metric.\n"
     ]
    },
    {
     "name": "stdout",
     "output_type": "stream",
     "text": [
      "0:\tlearn: 0.4970489\ttest: 0.4974700\tbest: 0.4974700 (0)\ttotal: 9.3s\tremaining: 30m 51s\n",
      "199:\tlearn: 0.0120657\ttest: 0.0684628\tbest: 0.0682128 (147)\ttotal: 31m 34s\tremaining: 0us\n",
      "\n",
      "bestTest = 0.06821282322\n",
      "bestIteration = 147\n",
      "\n",
      "Shrink model to first 148 iterations.\n"
     ]
    },
    {
     "name": "stderr",
     "output_type": "stream",
     "text": [
      "Warning: Overfitting detector is active, thus evaluation metric is calculated on every iteration. 'metric_period' is ignored for evaluation metric.\n"
     ]
    },
    {
     "name": "stdout",
     "output_type": "stream",
     "text": [
      "0:\tlearn: 0.3221547\ttest: 0.3223672\tbest: 0.3223672 (0)\ttotal: 43.6ms\tremaining: 8.69s\n",
      "199:\tlearn: 0.0669088\ttest: 0.0787969\tbest: 0.0787969 (199)\ttotal: 9.26s\tremaining: 0us\n",
      "\n",
      "bestTest = 0.07879689519\n",
      "bestIteration = 199\n",
      "\n"
     ]
    },
    {
     "name": "stderr",
     "output_type": "stream",
     "text": [
      "Warning: Overfitting detector is active, thus evaluation metric is calculated on every iteration. 'metric_period' is ignored for evaluation metric.\n"
     ]
    },
    {
     "name": "stdout",
     "output_type": "stream",
     "text": [
      "0:\tlearn: 0.3209318\ttest: 0.3212195\tbest: 0.3212195 (0)\ttotal: 44ms\tremaining: 8.75s\n",
      "199:\tlearn: 0.0669675\ttest: 0.0791311\tbest: 0.0791311 (199)\ttotal: 9.32s\tremaining: 0us\n",
      "\n",
      "bestTest = 0.07913114938\n",
      "bestIteration = 199\n",
      "\n"
     ]
    },
    {
     "name": "stderr",
     "output_type": "stream",
     "text": [
      "Warning: Overfitting detector is active, thus evaluation metric is calculated on every iteration. 'metric_period' is ignored for evaluation metric.\n"
     ]
    },
    {
     "name": "stdout",
     "output_type": "stream",
     "text": [
      "0:\tlearn: 0.4614521\ttest: 0.4619493\tbest: 0.4619493 (0)\ttotal: 9.69s\tremaining: 32m 8s\n",
      "199:\tlearn: 0.0212907\ttest: 0.0516750\tbest: 0.0516750 (199)\ttotal: 33m 2s\tremaining: 0us\n",
      "\n",
      "bestTest = 0.05167500448\n",
      "bestIteration = 199\n",
      "\n",
      "Confusion Matrix: \n",
      "[[113885     87]\n",
      " [  1730   2406]]\n",
      "\n",
      "Accuracy: 0.9846\n",
      "\n",
      "AUC: 0.9669\n",
      "\n",
      "F1 Score: 0.7259\n",
      "\n",
      "Classification Report: \n",
      "               precision    recall  f1-score   support\n",
      "\n",
      "           0       0.99      1.00      0.99    113972\n",
      "           1       0.97      0.58      0.73      4136\n",
      "\n",
      "    accuracy                           0.98    118108\n",
      "   macro avg       0.98      0.79      0.86    118108\n",
      "weighted avg       0.98      0.98      0.98    118108\n",
      "\n"
     ]
    }
   ],
   "source": [
    "# roc auc score\n",
    "best_estimator = perform_bayes_search(clf, X_train, X_val, y_train, y_val, param_grid, scoring='roc_auc')\n",
    "_ = calculate_scores(best_estimator, X_val, y_val)"
   ]
  },
  {
   "cell_type": "code",
   "execution_count": null,
   "metadata": {
    "scrolled": true
   },
   "outputs": [
    {
     "name": "stderr",
     "output_type": "stream",
     "text": [
      "Warning: Overfitting detector is active, thus evaluation metric is calculated on every iteration. 'metric_period' is ignored for evaluation metric.\n"
     ]
    },
    {
     "name": "stdout",
     "output_type": "stream",
     "text": [
      "0:\tlearn: 0.3632505\ttest: 0.3635394\tbest: 0.3635394 (0)\ttotal: 55.2ms\tremaining: 11s\n",
      "199:\tlearn: 0.0690067\ttest: 0.0788914\tbest: 0.0788914 (199)\ttotal: 11.3s\tremaining: 0us\n",
      "\n",
      "bestTest = 0.07889137956\n",
      "bestIteration = 199\n",
      "\n"
     ]
    },
    {
     "name": "stderr",
     "output_type": "stream",
     "text": [
      "Warning: Overfitting detector is active, thus evaluation metric is calculated on every iteration. 'metric_period' is ignored for evaluation metric.\n"
     ]
    },
    {
     "name": "stdout",
     "output_type": "stream",
     "text": [
      "0:\tlearn: 0.3619733\ttest: 0.3623615\tbest: 0.3623615 (0)\ttotal: 54.4ms\tremaining: 10.8s\n",
      "199:\tlearn: 0.0699066\ttest: 0.0796372\tbest: 0.0796372 (199)\ttotal: 11.3s\tremaining: 0us\n",
      "\n",
      "bestTest = 0.07963721797\n",
      "bestIteration = 199\n",
      "\n"
     ]
    },
    {
     "name": "stderr",
     "output_type": "stream",
     "text": [
      "Warning: Overfitting detector is active, thus evaluation metric is calculated on every iteration. 'metric_period' is ignored for evaluation metric.\n"
     ]
    },
    {
     "name": "stdout",
     "output_type": "stream",
     "text": [
      "0:\tlearn: 0.3589374\ttest: 0.3592340\tbest: 0.3592340 (0)\ttotal: 426ms\tremaining: 1m 24s\n",
      "199:\tlearn: 0.0469093\ttest: 0.0700253\tbest: 0.0700253 (199)\ttotal: 1m 24s\tremaining: 0us\n",
      "\n",
      "bestTest = 0.07002527255\n",
      "bestIteration = 199\n",
      "\n"
     ]
    },
    {
     "name": "stderr",
     "output_type": "stream",
     "text": [
      "Warning: Overfitting detector is active, thus evaluation metric is calculated on every iteration. 'metric_period' is ignored for evaluation metric.\n"
     ]
    },
    {
     "name": "stdout",
     "output_type": "stream",
     "text": [
      "0:\tlearn: 0.3571715\ttest: 0.3575993\tbest: 0.3575993 (0)\ttotal: 419ms\tremaining: 1m 23s\n",
      "199:\tlearn: 0.0497374\ttest: 0.0714763\tbest: 0.0714763 (199)\ttotal: 1m 24s\tremaining: 0us\n",
      "\n",
      "bestTest = 0.07147628797\n",
      "bestIteration = 199\n",
      "\n"
     ]
    },
    {
     "name": "stderr",
     "output_type": "stream",
     "text": [
      "Warning: Overfitting detector is active, thus evaluation metric is calculated on every iteration. 'metric_period' is ignored for evaluation metric.\n"
     ]
    },
    {
     "name": "stdout",
     "output_type": "stream",
     "text": [
      "0:\tlearn: 0.6546726\ttest: 0.6547063\tbest: 0.6547063 (0)\ttotal: 418ms\tremaining: 1m 23s\n",
      "199:\tlearn: 0.0850456\ttest: 0.0907384\tbest: 0.0907384 (199)\ttotal: 1m 24s\tremaining: 0us\n",
      "\n",
      "bestTest = 0.0907383532\n",
      "bestIteration = 199\n",
      "\n"
     ]
    },
    {
     "name": "stderr",
     "output_type": "stream",
     "text": [
      "Warning: Overfitting detector is active, thus evaluation metric is calculated on every iteration. 'metric_period' is ignored for evaluation metric.\n"
     ]
    },
    {
     "name": "stdout",
     "output_type": "stream",
     "text": [
      "0:\tlearn: 0.6545128\ttest: 0.6545603\tbest: 0.6545603 (0)\ttotal: 417ms\tremaining: 1m 23s\n",
      "199:\tlearn: 0.0851390\ttest: 0.0908934\tbest: 0.0908934 (199)\ttotal: 1m 24s\tremaining: 0us\n",
      "\n",
      "bestTest = 0.0908933754\n",
      "bestIteration = 199\n",
      "\n"
     ]
    },
    {
     "name": "stderr",
     "output_type": "stream",
     "text": [
      "Warning: Overfitting detector is active, thus evaluation metric is calculated on every iteration. 'metric_period' is ignored for evaluation metric.\n"
     ]
    },
    {
     "name": "stdout",
     "output_type": "stream",
     "text": [
      "0:\tlearn: 0.4048225\ttest: 0.4050848\tbest: 0.4050848 (0)\ttotal: 274ms\tremaining: 54.4s\n",
      "199:\tlearn: 0.0561954\ttest: 0.0734815\tbest: 0.0734815 (199)\ttotal: 55.7s\tremaining: 0us\n",
      "\n",
      "bestTest = 0.07348147027\n",
      "bestIteration = 199\n",
      "\n"
     ]
    },
    {
     "name": "stderr",
     "output_type": "stream",
     "text": [
      "Warning: Overfitting detector is active, thus evaluation metric is calculated on every iteration. 'metric_period' is ignored for evaluation metric.\n"
     ]
    },
    {
     "name": "stdout",
     "output_type": "stream",
     "text": [
      "0:\tlearn: 0.4031930\ttest: 0.4035709\tbest: 0.4035709 (0)\ttotal: 273ms\tremaining: 54.2s\n",
      "199:\tlearn: 0.0581154\ttest: 0.0748227\tbest: 0.0748224 (198)\ttotal: 55.7s\tremaining: 0us\n",
      "\n",
      "bestTest = 0.07482236409\n",
      "bestIteration = 198\n",
      "\n",
      "Shrink model to first 199 iterations.\n"
     ]
    },
    {
     "name": "stderr",
     "output_type": "stream",
     "text": [
      "Warning: Overfitting detector is active, thus evaluation metric is calculated on every iteration. 'metric_period' is ignored for evaluation metric.\n"
     ]
    },
    {
     "name": "stdout",
     "output_type": "stream",
     "text": [
      "0:\tlearn: 0.4656007\ttest: 0.4659401\tbest: 0.4659401 (0)\ttotal: 9.07s\tremaining: 30m 5s\n",
      "199:\tlearn: 0.0185741\ttest: 0.0648005\tbest: 0.0647961 (196)\ttotal: 31m 30s\tremaining: 0us\n",
      "\n",
      "bestTest = 0.06479609564\n",
      "bestIteration = 196\n",
      "\n",
      "Shrink model to first 197 iterations.\n"
     ]
    },
    {
     "name": "stderr",
     "output_type": "stream",
     "text": [
      "Warning: Overfitting detector is active, thus evaluation metric is calculated on every iteration. 'metric_period' is ignored for evaluation metric.\n"
     ]
    },
    {
     "name": "stdout",
     "output_type": "stream",
     "text": [
      "0:\tlearn: 0.4680346\ttest: 0.4683806\tbest: 0.4683806 (0)\ttotal: 9.28s\tremaining: 30m 47s\n",
      "199:\tlearn: 0.0186207\ttest: 0.0667242\tbest: 0.0667174 (198)\ttotal: 31m 37s\tremaining: 0us\n",
      "\n",
      "bestTest = 0.06671740515\n",
      "bestIteration = 198\n",
      "\n",
      "Shrink model to first 199 iterations.\n"
     ]
    },
    {
     "name": "stderr",
     "output_type": "stream",
     "text": [
      "Warning: Overfitting detector is active, thus evaluation metric is calculated on every iteration. 'metric_period' is ignored for evaluation metric.\n"
     ]
    },
    {
     "name": "stdout",
     "output_type": "stream",
     "text": [
      "0:\tlearn: 0.3999698\ttest: 0.4004139\tbest: 0.4004139 (0)\ttotal: 4.63s\tremaining: 15m 21s\n",
      "199:\tlearn: 0.0146066\ttest: 0.0658493\tbest: 0.0656834 (188)\ttotal: 15m 52s\tremaining: 0us\n",
      "\n",
      "bestTest = 0.06568340463\n",
      "bestIteration = 188\n",
      "\n",
      "Shrink model to first 189 iterations.\n"
     ]
    },
    {
     "name": "stderr",
     "output_type": "stream",
     "text": [
      "Warning: Overfitting detector is active, thus evaluation metric is calculated on every iteration. 'metric_period' is ignored for evaluation metric.\n"
     ]
    },
    {
     "name": "stdout",
     "output_type": "stream",
     "text": [
      "0:\tlearn: 0.4030255\ttest: 0.4034984\tbest: 0.4034984 (0)\ttotal: 4.75s\tremaining: 15m 46s\n",
      "199:\tlearn: 0.0150921\ttest: 0.0671128\tbest: 0.0670090 (187)\ttotal: 15m 55s\tremaining: 0us\n",
      "\n",
      "bestTest = 0.06700901156\n",
      "bestIteration = 187\n",
      "\n",
      "Shrink model to first 188 iterations.\n"
     ]
    },
    {
     "name": "stderr",
     "output_type": "stream",
     "text": [
      "Warning: Overfitting detector is active, thus evaluation metric is calculated on every iteration. 'metric_period' is ignored for evaluation metric.\n"
     ]
    },
    {
     "name": "stdout",
     "output_type": "stream",
     "text": [
      "0:\tlearn: 0.3693831\ttest: 0.3696452\tbest: 0.3696452 (0)\ttotal: 54.8ms\tremaining: 10.9s\n",
      "199:\tlearn: 0.0798570\ttest: 0.0857720\tbest: 0.0857720 (199)\ttotal: 10.8s\tremaining: 0us\n",
      "\n",
      "bestTest = 0.08577200116\n",
      "bestIteration = 199\n",
      "\n"
     ]
    },
    {
     "name": "stderr",
     "output_type": "stream",
     "text": [
      "Warning: Overfitting detector is active, thus evaluation metric is calculated on every iteration. 'metric_period' is ignored for evaluation metric.\n"
     ]
    },
    {
     "name": "stdout",
     "output_type": "stream",
     "text": [
      "0:\tlearn: 0.3681152\ttest: 0.3684692\tbest: 0.3684692 (0)\ttotal: 54.6ms\tremaining: 10.9s\n",
      "199:\tlearn: 0.0818300\ttest: 0.0869632\tbest: 0.0869628 (197)\ttotal: 10.5s\tremaining: 0us\n",
      "\n",
      "bestTest = 0.08696284209\n",
      "bestIteration = 197\n",
      "\n",
      "Shrink model to first 198 iterations.\n"
     ]
    },
    {
     "name": "stderr",
     "output_type": "stream",
     "text": [
      "Warning: Overfitting detector is active, thus evaluation metric is calculated on every iteration. 'metric_period' is ignored for evaluation metric.\n"
     ]
    },
    {
     "name": "stdout",
     "output_type": "stream",
     "text": [
      "0:\tlearn: 0.3512532\ttest: 0.3516275\tbest: 0.3516275 (0)\ttotal: 2.54s\tremaining: 8m 24s\n",
      "199:\tlearn: 0.0248691\ttest: 0.0648479\tbest: 0.0648473 (198)\ttotal: 8m 26s\tremaining: 0us\n",
      "\n",
      "bestTest = 0.06484734025\n",
      "bestIteration = 198\n",
      "\n",
      "Shrink model to first 199 iterations.\n"
     ]
    },
    {
     "name": "stderr",
     "output_type": "stream",
     "text": [
      "Warning: Overfitting detector is active, thus evaluation metric is calculated on every iteration. 'metric_period' is ignored for evaluation metric.\n"
     ]
    },
    {
     "name": "stdout",
     "output_type": "stream",
     "text": [
      "0:\tlearn: 0.3535734\ttest: 0.3540091\tbest: 0.3540091 (0)\ttotal: 2.46s\tremaining: 8m 9s\n",
      "199:\tlearn: 0.0286862\ttest: 0.0663100\tbest: 0.0663100 (199)\ttotal: 8m 19s\tremaining: 0us\n",
      "\n",
      "bestTest = 0.06631003765\n",
      "bestIteration = 199\n",
      "\n"
     ]
    },
    {
     "name": "stderr",
     "output_type": "stream",
     "text": [
      "Warning: Overfitting detector is active, thus evaluation metric is calculated on every iteration. 'metric_period' is ignored for evaluation metric.\n"
     ]
    },
    {
     "name": "stdout",
     "output_type": "stream",
     "text": [
      "0:\tlearn: 0.6204075\ttest: 0.6204771\tbest: 0.6204771 (0)\ttotal: 299ms\tremaining: 59.5s\n",
      "199:\tlearn: 0.0804694\ttest: 0.0866928\tbest: 0.0866928 (199)\ttotal: 55.6s\tremaining: 0us\n",
      "\n",
      "bestTest = 0.08669284703\n",
      "bestIteration = 199\n",
      "\n"
     ]
    },
    {
     "name": "stderr",
     "output_type": "stream",
     "text": [
      "Warning: Overfitting detector is active, thus evaluation metric is calculated on every iteration. 'metric_period' is ignored for evaluation metric.\n"
     ]
    },
    {
     "name": "stdout",
     "output_type": "stream",
     "text": [
      "0:\tlearn: 0.6199086\ttest: 0.6200020\tbest: 0.6200020 (0)\ttotal: 273ms\tremaining: 54.4s\n",
      "199:\tlearn: 0.0810433\ttest: 0.0872440\tbest: 0.0872440 (199)\ttotal: 55.7s\tremaining: 0us\n",
      "\n",
      "bestTest = 0.08724402669\n",
      "bestIteration = 199\n",
      "\n"
     ]
    },
    {
     "name": "stderr",
     "output_type": "stream",
     "text": [
      "Warning: Overfitting detector is active, thus evaluation metric is calculated on every iteration. 'metric_period' is ignored for evaluation metric.\n"
     ]
    },
    {
     "name": "stdout",
     "output_type": "stream",
     "text": [
      "0:\tlearn: 0.3762391\ttest: 0.3765219\tbest: 0.3765219 (0)\ttotal: 418ms\tremaining: 1m 23s\n",
      "199:\tlearn: 0.0476842\ttest: 0.0696456\tbest: 0.0696456 (199)\ttotal: 1m 24s\tremaining: 0us\n",
      "\n",
      "bestTest = 0.06964560058\n",
      "bestIteration = 199\n",
      "\n"
     ]
    },
    {
     "name": "stderr",
     "output_type": "stream",
     "text": [
      "Warning: Overfitting detector is active, thus evaluation metric is calculated on every iteration. 'metric_period' is ignored for evaluation metric.\n"
     ]
    },
    {
     "name": "stdout",
     "output_type": "stream",
     "text": [
      "0:\tlearn: 0.3745195\ttest: 0.3749221\tbest: 0.3749221 (0)\ttotal: 417ms\tremaining: 1m 23s\n",
      "199:\tlearn: 0.0514214\ttest: 0.0723493\tbest: 0.0723493 (199)\ttotal: 1m 24s\tremaining: 0us\n",
      "\n",
      "bestTest = 0.07234927369\n",
      "bestIteration = 199\n",
      "\n"
     ]
    },
    {
     "name": "stderr",
     "output_type": "stream",
     "text": [
      "Warning: Overfitting detector is active, thus evaluation metric is calculated on every iteration. 'metric_period' is ignored for evaluation metric.\n"
     ]
    },
    {
     "name": "stdout",
     "output_type": "stream",
     "text": [
      "0:\tlearn: 0.3364419\ttest: 0.3369166\tbest: 0.3369166 (0)\ttotal: 9.25s\tremaining: 30m 40s\n",
      "199:\tlearn: 0.0144311\ttest: 0.0641426\tbest: 0.0641179 (194)\ttotal: 31m 26s\tremaining: 0us\n",
      "\n",
      "bestTest = 0.06411791361\n",
      "bestIteration = 194\n",
      "\n",
      "Shrink model to first 195 iterations.\n"
     ]
    },
    {
     "name": "stderr",
     "output_type": "stream",
     "text": [
      "Warning: Overfitting detector is active, thus evaluation metric is calculated on every iteration. 'metric_period' is ignored for evaluation metric.\n"
     ]
    },
    {
     "name": "stdout",
     "output_type": "stream",
     "text": [
      "0:\tlearn: 0.3388416\ttest: 0.3394037\tbest: 0.3394037 (0)\ttotal: 9.43s\tremaining: 31m 16s\n",
      "199:\tlearn: 0.0170804\ttest: 0.0654920\tbest: 0.0654537 (195)\ttotal: 31m 32s\tremaining: 0us\n",
      "\n",
      "bestTest = 0.06545369112\n",
      "bestIteration = 195\n",
      "\n",
      "Shrink model to first 196 iterations.\n"
     ]
    },
    {
     "name": "stderr",
     "output_type": "stream",
     "text": [
      "Warning: Overfitting detector is active, thus evaluation metric is calculated on every iteration. 'metric_period' is ignored for evaluation metric.\n"
     ]
    },
    {
     "name": "stdout",
     "output_type": "stream",
     "text": [
      "0:\tlearn: 0.3086983\ttest: 0.3093487\tbest: 0.3093487 (0)\ttotal: 9.32s\tremaining: 30m 55s\n",
      "199:\tlearn: 0.0025595\ttest: 0.0762207\tbest: 0.0698706 (78)\ttotal: 31m 26s\tremaining: 0us\n",
      "\n",
      "bestTest = 0.06987060834\n",
      "bestIteration = 78\n",
      "\n",
      "Shrink model to first 79 iterations.\n"
     ]
    },
    {
     "name": "stderr",
     "output_type": "stream",
     "text": [
      "Warning: Overfitting detector is active, thus evaluation metric is calculated on every iteration. 'metric_period' is ignored for evaluation metric.\n"
     ]
    },
    {
     "name": "stdout",
     "output_type": "stream",
     "text": [
      "0:\tlearn: 0.3094932\ttest: 0.3104286\tbest: 0.3104286 (0)\ttotal: 9.22s\tremaining: 30m 35s\n"
     ]
    }
   ],
   "source": [
    "# f1 score\n",
    "best_estimator = perform_bayes_search(clf, X_train, X_val, y_train, y_val, param_grid, scoring='f1')\n",
    "_ = calculate_scores(best_estimator, X_val, y_val)"
   ]
  },
  {
   "cell_type": "code",
   "execution_count": null,
   "metadata": {},
   "outputs": [],
   "source": []
  }
 ],
 "metadata": {
  "kernelspec": {
   "display_name": "Python3.7 (inzva)",
   "language": "python",
   "name": "inzva"
  },
  "language_info": {
   "codemirror_mode": {
    "name": "ipython",
    "version": 3
   },
   "file_extension": ".py",
   "mimetype": "text/x-python",
   "name": "python",
   "nbconvert_exporter": "python",
   "pygments_lexer": "ipython3",
   "version": "3.7.9"
  },
  "toc-autonumbering": true,
  "toc-showmarkdowntxt": true,
  "toc-showtags": false
 },
 "nbformat": 4,
 "nbformat_minor": 4
}
